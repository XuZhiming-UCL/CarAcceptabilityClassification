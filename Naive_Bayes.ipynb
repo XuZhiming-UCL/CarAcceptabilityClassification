{
 "cells": [
  {
   "cell_type": "markdown",
   "id": "7ed228e8",
   "metadata": {},
   "source": [
    "# Naive Bayes Classifier\n",
    "\n",
    "In this notebook, we train a Naive Bayes classifier on the training set for prediction with scikit-learn module."
   ]
  },
  {
   "cell_type": "markdown",
   "id": "4ea7ff1a",
   "metadata": {},
   "source": [
    "### 1. Data Loading\n",
    "\n",
    "We first load the training set and the test set (.NPY files)."
   ]
  },
  {
   "cell_type": "code",
   "execution_count": 1,
   "id": "96a3d824",
   "metadata": {},
   "outputs": [],
   "source": [
    "import numpy as np\n",
    "xs_test = np.load('data/xs_test.npy')\n",
    "xs_train = np.load('data/xs_train.npy')\n",
    "ys_test = np.load('data/ys_test.npy')\n",
    "ys_train = np.load('data/ys_train.npy')"
   ]
  },
  {
   "cell_type": "markdown",
   "id": "f0f32d9e",
   "metadata": {},
   "source": [
    "What's more, the dictionary files (.CSV) which contains the string categorical values and the corresponding integer codes are also loaded."
   ]
  },
  {
   "cell_type": "code",
   "execution_count": 2,
   "id": "b78460ba",
   "metadata": {},
   "outputs": [],
   "source": [
    "import csv\n",
    "\n",
    "class_dic = {}\n",
    "\n",
    "# read the .csv files back to the dictionaries\n",
    "with open('data/class_dic.csv', 'r') as w:\n",
    "    csvreader = csv.reader(w)\n",
    "    for row in csvreader:\n",
    "        class_dic[row[0]] = row[1]"
   ]
  },
  {
   "cell_type": "markdown",
   "id": "b26a1642",
   "metadata": {},
   "source": [
    "### 2. Parameter Tuning\n",
    "\n",
    "We have chosen the Gaussian Naive Bayes model to train on our dataset. To realise this specific model, we utilize the GaussianNB() method of sklearn package."
   ]
  },
  {
   "cell_type": "markdown",
   "id": "23356c8d",
   "metadata": {},
   "source": [
    "Before doing hyperparameter tuning, we first check what parameters do GaussianNB() model have.\n",
    "\n",
    "According to the output, GaussianNB() only has the following two parameters:\n",
    "\n",
    "- <b>priors:</b> Prior probabilities of the categories. If not specified, it will be adjusted according to the amount of data.\n",
    "\n",
    "- <b>var_smoothing:</b> A float parameter which represents the portion of the largest variance of all features being added to variances for calculation stability.\n",
    "\n"
   ]
  },
  {
   "cell_type": "code",
   "execution_count": 3,
   "id": "8b1dd3af",
   "metadata": {},
   "outputs": [
    {
     "name": "stdout",
     "output_type": "stream",
     "text": [
      "Parameters of GaussianNB: ['priors', 'var_smoothing']\n"
     ]
    }
   ],
   "source": [
    "# Import Gaussian Naive Bayes model\n",
    "from sklearn.naive_bayes import GaussianNB\n",
    "\n",
    "# Take a look at which parameters can be fine tuned\n",
    "GaussianNB_params = list(GaussianNB().get_params().keys())\n",
    "print(\"Parameters of GaussianNB:\", GaussianNB_params)"
   ]
  },
  {
   "cell_type": "markdown",
   "id": "9f6b4f18",
   "metadata": {},
   "source": [
    "Since we don't have the prior probabilities of the categories, we only try to tune the <b>var_smoothing</b> parameter.\n",
    "\n",
    "To find the best var_smoothing, we do the grid search on the training set which will try each possible value of the parameter and find the one leading to the highest weighted F1 score.\n",
    "\n",
    "What's more, we also do 3-repeated Stratified 5-Fold cross validation when doing grid search to get a reliable estimate of how well each model performs on the unseen data. In this case, The model will be trained and evaluated 1500 times using 1500 different parameters."
   ]
  },
  {
   "cell_type": "code",
   "execution_count": 4,
   "id": "ebf18b56",
   "metadata": {},
   "outputs": [
    {
     "name": "stdout",
     "output_type": "stream",
     "text": [
      "Fitting 15 folds for each of 100 candidates, totalling 1500 fits\n",
      "Best Score:  0.8253806036741419\n",
      "Best Params:  {'var_smoothing': 0.03511191734215131}\n"
     ]
    }
   ],
   "source": [
    "from sklearn.model_selection import RepeatedStratifiedKFold, GridSearchCV\n",
    "\n",
    "# Create a Gaussian Classifier model\n",
    "model = GaussianNB()\n",
    "\n",
    "# Define grid search parameters\n",
    "params_grid_NB = {'var_smoothing': np.logspace(0,-9, num=100)}\n",
    "\n",
    "# define the cross validation method\n",
    "cv_method = RepeatedStratifiedKFold(n_splits=5,  n_repeats=3, random_state=999)\n",
    "\n",
    "gs_NB = GridSearchCV(estimator=model, \n",
    "                 param_grid=params_grid_NB, \n",
    "                 cv=cv_method,\n",
    "                 verbose=1, \n",
    "                 scoring='f1_weighted') \n",
    "\n",
    "# Learn a naive bayes algorithm on the training set.\n",
    "gs_NB.fit(xs_train, ys_train.ravel())\n",
    "\n",
    "\n",
    "print(\"Best Score: \", gs_NB.best_score_)\n",
    "print(\"Best Params: \", gs_NB.best_params_)\n"
   ]
  },
  {
   "cell_type": "markdown",
   "id": "497d1a81",
   "metadata": {},
   "source": [
    "According to the output, the Gaussian Naive Bayes model got the best weighted F1 score (0.8254) when the var_smoothing is set as approximately 0.035."
   ]
  },
  {
   "cell_type": "markdown",
   "id": "8dd0e2ab",
   "metadata": {},
   "source": [
    "### 3. Model Training and Evaluation"
   ]
  },
  {
   "cell_type": "markdown",
   "id": "f9fb2f36",
   "metadata": {},
   "source": [
    "Then, using the best <b>var_smoothing</b> value, we learn a Gaussian Naive Bayes on the training set."
   ]
  },
  {
   "cell_type": "code",
   "execution_count": 5,
   "id": "3ac451a4",
   "metadata": {},
   "outputs": [
    {
     "data": {
      "text/plain": [
       "GaussianNB(var_smoothing=0.03511191734215131)"
      ]
     },
     "execution_count": 5,
     "metadata": {},
     "output_type": "execute_result"
    }
   ],
   "source": [
    "# Create and train a Gaussian Classifier model with the best var_smoothing\n",
    "GNB = GaussianNB(var_smoothing=gs_NB.best_params_['var_smoothing'])\n",
    "GNB.fit(xs_train, ys_train.ravel())\n"
   ]
  },
  {
   "cell_type": "markdown",
   "id": "28a82154",
   "metadata": {},
   "source": [
    "In order to use the trained model again in the Model Ensemble Part, we save the model with joblib() method in sklearn."
   ]
  },
  {
   "cell_type": "code",
   "execution_count": 6,
   "id": "7550a682",
   "metadata": {},
   "outputs": [
    {
     "data": {
      "text/plain": [
       "['models/Gaussian_Naive_Bayes.model']"
      ]
     },
     "execution_count": 6,
     "metadata": {},
     "output_type": "execute_result"
    }
   ],
   "source": [
    "import joblib\n",
    "# save the trained model\n",
    "joblib.dump(GNB, 'models/Gaussian_Naive_Bayes.model')"
   ]
  },
  {
   "cell_type": "markdown",
   "id": "92bc964d",
   "metadata": {},
   "source": [
    "Finally, we evaluate the model by making classification reports both on the traing set and on the test set.\n",
    "\n",
    "According to the results, the metrics on the training set and test set are all similar, which indicates that there is no obvious overfitting in our model.\n",
    "\n",
    "<b>In general, overfitting is not something that should be a concern with Naive Bayes as it makes a strong assumption of independence between the features, so it is biased and less flexible, hence less likely to overfit. </b>"
   ]
  },
  {
   "cell_type": "code",
   "execution_count": 7,
   "id": "b37b2819",
   "metadata": {},
   "outputs": [
    {
     "name": "stdout",
     "output_type": "stream",
     "text": [
      "Classification Report of Naive Bayes on the Training set: \n",
      "\n",
      "               precision    recall  f1-score   support\n",
      "\n",
      "           0     0.8723    0.9525    0.9106       968\n",
      "           1     0.7066    0.5570    0.6230       307\n",
      "           2     0.8846    0.8846    0.8846        52\n",
      "           3     0.6129    0.3455    0.4419        55\n",
      "\n",
      "    accuracy                         0.8379      1382\n",
      "   macro avg     0.7691    0.6849    0.7150      1382\n",
      "weighted avg     0.8256    0.8379    0.8271      1382\n",
      "\n",
      "Classification Report of Naive Bayes on the Test set: \n",
      "\n",
      "               precision    recall  f1-score   support\n",
      "\n",
      "           0     0.8444    0.9421    0.8906       242\n",
      "           1     0.6909    0.4935    0.5758        77\n",
      "           2     0.8571    0.9231    0.8889        13\n",
      "           3     0.7143    0.3571    0.4762        14\n",
      "\n",
      "    accuracy                         0.8179       346\n",
      "   macro avg     0.7767    0.6790    0.7079       346\n",
      "weighted avg     0.8055    0.8179    0.8037       346\n",
      "\n"
     ]
    }
   ],
   "source": [
    "from sklearn.metrics import classification_report\n",
    "\n",
    "# predict the ys with xs of training set and test set\n",
    "ys_train_pred = GNB.predict(xs_train)\n",
    "ys_test_pred = GNB.predict(xs_test)\n",
    "\n",
    "# print the classfication report\n",
    "print('Classification Report of Naive Bayes on the Training set: \\n\\n',classification_report(ys_train, ys_train_pred,digits=4))\n",
    "print('Classification Report of Naive Bayes on the Test set: \\n\\n',classification_report(ys_test, ys_test_pred,digits=4))"
   ]
  },
  {
   "cell_type": "markdown",
   "id": "0a6e6de0",
   "metadata": {},
   "source": [
    "We also plot a confusion matrix heatmap with the heatmap() method in seaborn package to evaluate the classification performance of the model on each class."
   ]
  },
  {
   "cell_type": "code",
   "execution_count": 8,
   "id": "dab1e788",
   "metadata": {},
   "outputs": [
    {
     "data": {
      "image/png": "[encoded data removed]",
      "text/plain": [
       "<Figure size 720x720 with 1 Axes>"
      ]
     },
     "metadata": {
      "needs_background": "light"
     },
     "output_type": "display_data"
    }
   ],
   "source": [
    "import seaborn as sns\n",
    "from matplotlib import pyplot as plt\n",
    "from sklearn.metrics import confusion_matrix\n",
    "\n",
    "# construct a confusion matrix which shows the accuracy on each class\n",
    "mat = confusion_matrix(ys_test, ys_test_pred)\n",
    "\n",
    "# plot the confusion matrix into a heatmap\n",
    "plt.subplots(figsize=(10, 10))\n",
    "sns.heatmap(mat.T, square=True, annot=True, fmt='d', cbar=False,\n",
    "            xticklabels=class_dic.values(), yticklabels=class_dic.values())\n",
    "# set the x and y label of the figure\n",
    "plt.xlabel('True Label')\n",
    "plt.ylabel('Predicted Label')\n",
    "plt.show()\n"
   ]
  }
 ],
 "metadata": {
  "kernelspec": {
   "display_name": "Python 3 (ipykernel)",
   "language": "python",
   "name": "python3"
  },
  "language_info": {
   "codemirror_mode": {
    "name": "ipython",
    "version": 3
   },
   "file_extension": ".py",
   "mimetype": "text/x-python",
   "name": "python",
   "nbconvert_exporter": "python",
   "pygments_lexer": "ipython3",
   "version": "3.8.12"
  }
 },
 "nbformat": 4,
 "nbformat_minor": 5
}
