{
 "cells": [
  {
   "cell_type": "markdown",
   "metadata": {},
   "source": [
    "# Data Acquisition, Exploration and Preprocessing\n",
    "\n",
    "### 1. Download and Read the Car Evaluation Dataset from UCI\n",
    "\n",
    "We first download the Car Evaluation dataset (and the names of attributes) directly from the UCI repository. Then pandas module is used to read the data.\n"
   ]
  },
  {
   "cell_type": "code",
   "execution_count": 1,
   "metadata": {},
   "outputs": [],
   "source": [
    "import numpy as np\n",
    "import pandas as pd\n",
    "from urllib.request import urlretrieve\n",
    "\n",
    "# get the Car Evaluation dataset directly from the UCI\n",
    "dataset_url = 'https://archive.ics.uci.edu/ml/machine-learning-databases/car/car.data'\n",
    "urlretrieve(dataset_url, 'car.data')\n",
    "\n",
    "# get the file of names of the attributes from the ad.names\n",
    "attribute_name_url = 'https://archive.ics.uci.edu/ml/machine-learning-databases/car/car.c45-names'\n",
    "urlretrieve(attribute_name_url, 'car.c45-names')\n",
    "\n",
    "# a list to store the names of attributes\n",
    "names = []\n",
    "f = open('car.c45-names', 'r', encoding='unicode_escape')\n",
    "line = f.readline()\n",
    "# read each line of the name file\n",
    "while line:\n",
    "    # if the line is with colon(:)\n",
    "    if ': ' in line:\n",
    "        # split it by colon，and append the first part to the \"names\" list\n",
    "        names.append(line.split(': ')[0])\n",
    "    line = f.readline()\n",
    "f.close()\n",
    "# add 'class'(y) which is not included in the ad.names\n",
    "names.append('class')\n",
    "\n",
    "# read the dataset with the downloaded file and the names\n",
    "data = pd.read_csv('car.data', names=names)\n"
   ]
  },
  {
   "cell_type": "markdown",
   "metadata": {},
   "source": [
    "### 2. Explain the Dataset\n",
    "\n",
    "By running the code below, we' ve got an overview of the dataset.\n",
    "The dataset consists of <b>1728</b> car evaluation samples, each with the following <b>categorical</b> attributes and characteristics:\n",
    "\n",
    "- <b>buying (buying price)</b>: vhigh, high, med, low.\n",
    "\n",
    "- <b>maint (maint price)</b>: vhigh, high, med, low.\n",
    "\n",
    "- <b>doors (number of doors)</b>: 2, 3, 4, 5more.\n",
    "\n",
    "- <b>persons (number of people to carry)</b>: 2, 4, more.\n",
    "\n",
    "- <b>lug_boot (size of the luggage boot)</b>: small, med, big.\n",
    "\n",
    "- <b>safety (estimated safty level)</b>: low, med, high.\n",
    "\n",
    "The last attribute (class) is the target attribute which shows the overall evaluation of a car. It has four characteristics:\n",
    "\n",
    "- <b>unacc</b> (Unacceptable)\n",
    "\n",
    "- <b>acc</b> (Acceptable)\n",
    "\n",
    "- <b>good</b> (Good)\n",
    "\n",
    "- <b>vgood</b> (Very Good)\n"
   ]
  },
  {
   "cell_type": "code",
   "execution_count": 2,
   "metadata": {
    "scrolled": true
   },
   "outputs": [
    {
     "name": "stdout",
     "output_type": "stream",
     "text": [
      "Number of samples: 1728 \n",
      "\n",
      "Attribute 1 : buying\n",
      "Characteristics: ['vhigh' 'high' 'med' 'low'] \n",
      "\n",
      "Attribute 2 : maint\n",
      "Characteristics: ['vhigh' 'high' 'med' 'low'] \n",
      "\n",
      "Attribute 3 : doors\n",
      "Characteristics: ['2' '3' '4' '5more'] \n",
      "\n",
      "Attribute 4 : persons\n",
      "Characteristics: ['2' '4' 'more'] \n",
      "\n",
      "Attribute 5 : lug_boot\n",
      "Characteristics: ['small' 'med' 'big'] \n",
      "\n",
      "Attribute 6 : safety\n",
      "Characteristics: ['low' 'med' 'high'] \n",
      "\n",
      "Attribute 7 : class\n",
      "Characteristics: ['unacc' 'acc' 'vgood' 'good']\n"
     ]
    }
   ],
   "source": [
    "print('Number of samples:', len(data), '\\n')\n",
    "\n",
    "# print the attributes and the characteristics of the dataset\n",
    "for i in range(len(data.columns)):\n",
    "    print('Attribute', i+1, ':', data.columns[i])\n",
    "    if i != len(data.columns)-1:\n",
    "        print('Characteristics:', data[data.columns[i]].unique(), '\\n')\n",
    "    else:\n",
    "        print('Characteristics:', data[data.columns[i]].unique())\n"
   ]
  },
  {
   "cell_type": "markdown",
   "metadata": {},
   "source": [
    "By using the .isnull().sum() on the data, we can see that there is no missing value in this dataset.\n"
   ]
  },
  {
   "cell_type": "code",
   "execution_count": 3,
   "metadata": {},
   "outputs": [
    {
     "name": "stdout",
     "output_type": "stream",
     "text": [
      "buying      0\n",
      "maint       0\n",
      "doors       0\n",
      "persons     0\n",
      "lug_boot    0\n",
      "safety      0\n",
      "class       0\n",
      "dtype: int64\n"
     ]
    }
   ],
   "source": [
    "# print the number of null values in each attribute\n",
    "print(data.isnull().sum())\n"
   ]
  },
  {
   "cell_type": "markdown",
   "metadata": {},
   "source": [
    "By plotting a table and a pie chart which shows the distribution of the samples in each class, we can see that the dataset is highly imbalanced -- more than 70% of the samples are Unacceptable ones, while Good and Very Good samples occupy only less than 4% respectively.\n",
    "\n",
    "\n",
    "| Class | N    | N(%)   |\n",
    "| ----- | ---- | ------ |\n",
    "| unacc | 1210 | 70.023 |\n",
    "| acc   | 384  | 22.222 |\n",
    "| good  | 69   | 3.993  |\n",
    "| vgood | 65   | 3.762  |\n"
   ]
  },
  {
   "cell_type": "code",
   "execution_count": 4,
   "metadata": {},
   "outputs": [
    {
     "data": {
      "image/png": "[encoded data removed]",
      "text/plain": [
       "<Figure size 432x288 with 1 Axes>"
      ]
     },
     "metadata": {},
     "output_type": "display_data"
    }
   ],
   "source": [
    "import matplotlib.pyplot as plt\n",
    "\n",
    "# get a dictionary which contains the number of samples in each class\n",
    "distribution = data['class'].value_counts()\n",
    "\n",
    "# draw a pie chart for the data distribution\n",
    "# get the labels from the dictionary distribution\n",
    "labels = list(sorted(distribution.keys()))\n",
    "\n",
    "# get the number of samples in each class\n",
    "numofclass = []\n",
    "for label in labels:\n",
    "    numofclass.append(distribution.get(label))\n",
    "\n",
    "# a function to return the value and the proportion\n",
    "\n",
    "\n",
    "def propotion_with_value(values):\n",
    "    a = str(np.round(values, 2)) + \\\n",
    "        '%('+str(int(np.round(values/100.*sum(numofclass))))+')'\n",
    "    return a\n",
    "\n",
    "\n",
    "# plot a pie chart\n",
    "plt.pie(x=numofclass, labels=labels, autopct=propotion_with_value)\n",
    "plt.legend()\n",
    "plt.show()\n"
   ]
  },
  {
   "cell_type": "markdown",
   "metadata": {},
   "source": [
    "Similarly, we also tried to explore the distribution of characteristics of each attribute. By plotting a bar graph for each attribute, we can see that each attribute conforms to a uniform distribution."
   ]
  },
  {
   "cell_type": "code",
   "execution_count": 5,
   "metadata": {},
   "outputs": [
    {
     "data": {
      "image/png": "[encoded data removed]",
      "text/plain": [
       "<Figure size 864x288 with 6 Axes>"
      ]
     },
     "metadata": {
      "needs_background": "light"
     },
     "output_type": "display_data"
    }
   ],
   "source": [
    "fig, axes = plt.subplots(2, 3, figsize=(12, 4))\n",
    "\n",
    "ax1 = axes[0, 0]\n",
    "buying = pd.crosstab(index=data[\"buying\"], columns=\"count\")\n",
    "ax1.bar(x=data[data.columns[0]].unique(), height=buying['count'])\n",
    "ax1.set_title('buying')\n",
    "\n",
    "ax2 = axes[0, 1]\n",
    "maint = pd.crosstab(index=data[\"maint\"], columns=\"count\")\n",
    "ax2.bar(x=data[data.columns[1]].unique(), height=maint['count'])\n",
    "ax2.set_title('maint')\n",
    "\n",
    "ax3 = axes[0, 2]\n",
    "doors = pd.crosstab(index=data[\"doors\"], columns=\"count\")\n",
    "ax3.bar(x=data[data.columns[2]].unique(), height=doors['count'])\n",
    "ax3.set_title('doors')\n",
    "\n",
    "ax4 = axes[1, 0]\n",
    "persons = pd.crosstab(index=data[\"persons\"], columns=\"count\")\n",
    "ax4.bar(x=data[data.columns[3]].unique(), height=persons['count'])\n",
    "ax4.set_title('persons')\n",
    "\n",
    "ax5 = axes[1, 1]\n",
    "lug_boot = pd.crosstab(index=data[\"lug_boot\"], columns=\"count\")\n",
    "ax5.bar(x=data[data.columns[4]].unique(), height=lug_boot['count'])\n",
    "ax5.set_title('lug_boot')\n",
    "\n",
    "ax6 = axes[1, 2]\n",
    "safety = pd.crosstab(index=data[\"safety\"], columns=\"count\")\n",
    "ax6.bar(x=data[data.columns[5]].unique(), height=safety['count'])\n",
    "ax6.set_title('safety')\n",
    "\n",
    "plt.tight_layout()\n",
    "plt.show()\n"
   ]
  },
  {
   "cell_type": "markdown",
   "metadata": {},
   "source": [
    "### 3. Convert the Attributes\n",
    "\n",
    "The attributes of the dataset are labeled in string format. However, some machine learning models require the variables to be coded with integer codes. So, we convert the string categorical values into integer codes using factorize() method of the pandas module.\n",
    "\n",
    "To check the correspondence in the future, we save the string categorical values and the corresponding integer codes into two dictionaries <b>att_dic</b> and <b>class_dic</b>.\n"
   ]
  },
  {
   "cell_type": "markdown",
   "metadata": {},
   "source": [
    "<b>N.B. For models that can be trained with string attributes directly such as Decision Trees, since the original characteristics are ordered sequentially (e.g., [vhigh, high, med, low]), converting them into integer codes will not affect the performance of the models.\n"
   ]
  },
  {
   "cell_type": "code",
   "execution_count": 6,
   "metadata": {},
   "outputs": [
    {
     "name": "stdout",
     "output_type": "stream",
     "text": [
      "Attributes Dictionary: {'buying': {0: 'vhigh', 1: 'high', 2: 'med', 3: 'low'}, 'maint': {0: 'vhigh', 1: 'high', 2: 'med', 3: 'low'}, 'doors': {0: '2', 1: '3', 2: '4', 3: '5more'}, 'persons': {0: '2', 1: '4', 2: 'more'}, 'lug_boot': {0: 'small', 1: 'med', 2: 'big'}, 'safety': {0: 'low', 1: 'med', 2: 'high'}}\n",
      "Class Dictionary: {0: 'unacc', 1: 'acc', 2: 'vgood', 3: 'good'}\n"
     ]
    }
   ],
   "source": [
    "# create two dictionaries to match the integer codes with its equivalent string, one for attibutes, one for classes\n",
    "att_dic = {}\n",
    "class_dic = {}\n",
    "for column in data:\n",
    "    data[column], class_names = pd.factorize(data[column])\n",
    "    if column != 'class':\n",
    "        att_dic[column] = {}\n",
    "        for i in range(len(class_names)):\n",
    "            att_dic[column][i] = class_names[i]\n",
    "    else:\n",
    "        for i in range(len(class_names)):\n",
    "            class_dic[i] = class_names[i]\n",
    "\n",
    "print(\"Attributes Dictionary:\", att_dic)\n",
    "print(\"Class Dictionary:\", class_dic)\n"
   ]
  },
  {
   "cell_type": "markdown",
   "metadata": {},
   "source": [
    "Then, we save the two dictionaries as .CSV files so that they can be used in other jupyter notebooks.\n"
   ]
  },
  {
   "cell_type": "code",
   "execution_count": 7,
   "metadata": {},
   "outputs": [],
   "source": [
    "import csv\n",
    "# open two files for storing the two dictionaries\n",
    "with open(\"data/att_dic.csv\", \"w\",newline='') as w:\n",
    "    # loop over keys and values\n",
    "    writer = csv.writer(w)\n",
    "    for key, val in att_dic.items():\n",
    "        writer.writerow([key, val])\n",
    "\n",
    "with open(\"data/class_dic.csv\", \"w\",newline='') as w:\n",
    "    # loop over keys and values\n",
    "    writer = csv.writer(w)\n",
    "    for key, val in class_dic.items():\n",
    "        writer.writerow([key, val])\n"
   ]
  },
  {
   "cell_type": "markdown",
   "metadata": {},
   "source": [
    "With the dictionaries, we can easily query the meaning of a certain value of an attribute.\n"
   ]
  },
  {
   "cell_type": "code",
   "execution_count": 8,
   "metadata": {},
   "outputs": [
    {
     "data": {
      "text/plain": [
       "'high'"
      ]
     },
     "execution_count": 8,
     "metadata": {},
     "output_type": "execute_result"
    }
   ],
   "source": [
    "# query the meaning of 2 in the variable of safety\n",
    "att_dic['safety'][2]\n"
   ]
  },
  {
   "cell_type": "markdown",
   "metadata": {},
   "source": [
    "Let's look at the dataset again, now all the value of the variables are represented with integer codes.\n"
   ]
  },
  {
   "cell_type": "code",
   "execution_count": 9,
   "metadata": {},
   "outputs": [
    {
     "data": {
      "text/html": [
       "<div>\n",
       "<style scoped>\n",
       "    .dataframe tbody tr th:only-of-type {\n",
       "        vertical-align: middle;\n",
       "    }\n",
       "\n",
       "    .dataframe tbody tr th {\n",
       "        vertical-align: top;\n",
       "    }\n",
       "\n",
       "    .dataframe thead th {\n",
       "        text-align: right;\n",
       "    }\n",
       "</style>\n",
       "<table border=\"1\" class=\"dataframe\">\n",
       "  <thead>\n",
       "    <tr style=\"text-align: right;\">\n",
       "      <th></th>\n",
       "      <th>buying</th>\n",
       "      <th>maint</th>\n",
       "      <th>doors</th>\n",
       "      <th>persons</th>\n",
       "      <th>lug_boot</th>\n",
       "      <th>safety</th>\n",
       "      <th>class</th>\n",
       "    </tr>\n",
       "  </thead>\n",
       "  <tbody>\n",
       "    <tr>\n",
       "      <th>0</th>\n",
       "      <td>0</td>\n",
       "      <td>0</td>\n",
       "      <td>0</td>\n",
       "      <td>0</td>\n",
       "      <td>0</td>\n",
       "      <td>0</td>\n",
       "      <td>0</td>\n",
       "    </tr>\n",
       "    <tr>\n",
       "      <th>1</th>\n",
       "      <td>0</td>\n",
       "      <td>0</td>\n",
       "      <td>0</td>\n",
       "      <td>0</td>\n",
       "      <td>0</td>\n",
       "      <td>1</td>\n",
       "      <td>0</td>\n",
       "    </tr>\n",
       "    <tr>\n",
       "      <th>2</th>\n",
       "      <td>0</td>\n",
       "      <td>0</td>\n",
       "      <td>0</td>\n",
       "      <td>0</td>\n",
       "      <td>0</td>\n",
       "      <td>2</td>\n",
       "      <td>0</td>\n",
       "    </tr>\n",
       "    <tr>\n",
       "      <th>3</th>\n",
       "      <td>0</td>\n",
       "      <td>0</td>\n",
       "      <td>0</td>\n",
       "      <td>0</td>\n",
       "      <td>1</td>\n",
       "      <td>0</td>\n",
       "      <td>0</td>\n",
       "    </tr>\n",
       "    <tr>\n",
       "      <th>4</th>\n",
       "      <td>0</td>\n",
       "      <td>0</td>\n",
       "      <td>0</td>\n",
       "      <td>0</td>\n",
       "      <td>1</td>\n",
       "      <td>1</td>\n",
       "      <td>0</td>\n",
       "    </tr>\n",
       "  </tbody>\n",
       "</table>\n",
       "</div>"
      ],
      "text/plain": [
       "   buying  maint  doors  persons  lug_boot  safety  class\n",
       "0       0      0      0        0         0       0      0\n",
       "1       0      0      0        0         0       1      0\n",
       "2       0      0      0        0         0       2      0\n",
       "3       0      0      0        0         1       0      0\n",
       "4       0      0      0        0         1       1      0"
      ]
     },
     "execution_count": 9,
     "metadata": {},
     "output_type": "execute_result"
    }
   ],
   "source": [
    "data.head()\n"
   ]
  },
  {
   "cell_type": "markdown",
   "metadata": {},
   "source": [
    "After the conversion, it is possible to perform arithmetic on our dataset. For example, we plotted a radar chart which shows the mean value of each attribute.\n"
   ]
  },
  {
   "cell_type": "code",
   "execution_count": 10,
   "metadata": {},
   "outputs": [
    {
     "data": {
      "image/png": "[encoded data removed]",
      "text/plain": [
       "<Figure size 432x288 with 1 Axes>"
      ]
     },
     "metadata": {
      "needs_background": "light"
     },
     "output_type": "display_data"
    }
   ],
   "source": [
    "# the follow codes are adapted from: https://blog.csdn.net/zx1245773445/article/details/96992357\n",
    "\n",
    "mean_data = data.mean()\n",
    "max_data = data.max()\n",
    "feature = np.array(['buying', 'maint', 'doors',\n",
    "                   'persons', 'lug_boot', 'safety'])\n",
    "mean_data = np.array(mean_data)\n",
    "index = [6]\n",
    "mean_data = np.delete(mean_data, index)\n",
    "\n",
    "# Set the display position of each data point, expressed in degrees on the radar chart\n",
    "angles = np.linspace(0, 2*np.pi, len(mean_data), endpoint=False)\n",
    "\n",
    "# Concatenate the beginning and end of the data, so that the lines in the graph are closed\n",
    "feature = np.concatenate((feature, [feature[0]]))\n",
    "mean_data = np.concatenate((mean_data, [mean_data[0]]))\n",
    "angles = np.concatenate((angles, [angles[0]]))\n",
    "\n",
    "# Plotting\n",
    "fig = plt.figure()\n",
    "# Set to polar format\n",
    "ax = fig.add_subplot(111, polar=True)\n",
    "# Draw a line chart\n",
    "ax.plot(angles, mean_data, 'o-', linewidth=2)\n",
    "ax.fill(angles, mean_data, alpha=0.25)\n",
    "\n",
    "# Set the angle division scale on the icon, adding labels at each data point\n",
    "ax.set_thetagrids(angles * 180/np.pi, feature)\n",
    "\n",
    "# Set the range of the radar chart, add titles and gridlines\n",
    "ax.set_ylim(0, 2)\n",
    "plt.title('Mean Value of Attributes(Radar)')\n",
    "ax.grid(True)\n",
    "\n",
    "plt.show()\n"
   ]
  },
  {
   "cell_type": "markdown",
   "metadata": {},
   "source": [
    "### 4. Correlation Test on the Dataset\n",
    "\n",
    "To test whether there are positive or negative relationships among the attributes, we use the corr() method in pandas to check the correlation between each pair of attributes.\n",
    "\n",
    "Since all the values of correlation are close to zero, we can know that there's no significant relationship between these attributes, which means all of them can be used in training a machine learning model for classification.\n"
   ]
  },
  {
   "cell_type": "code",
   "execution_count": 11,
   "metadata": {},
   "outputs": [
    {
     "data": {
      "text/html": [
       "<div>\n",
       "<style scoped>\n",
       "    .dataframe tbody tr th:only-of-type {\n",
       "        vertical-align: middle;\n",
       "    }\n",
       "\n",
       "    .dataframe tbody tr th {\n",
       "        vertical-align: top;\n",
       "    }\n",
       "\n",
       "    .dataframe thead th {\n",
       "        text-align: right;\n",
       "    }\n",
       "</style>\n",
       "<table border=\"1\" class=\"dataframe\">\n",
       "  <thead>\n",
       "    <tr style=\"text-align: right;\">\n",
       "      <th></th>\n",
       "      <th>buying</th>\n",
       "      <th>maint</th>\n",
       "      <th>doors</th>\n",
       "      <th>persons</th>\n",
       "      <th>lug_boot</th>\n",
       "      <th>safety</th>\n",
       "    </tr>\n",
       "  </thead>\n",
       "  <tbody>\n",
       "    <tr>\n",
       "      <th>buying</th>\n",
       "      <td>1.000000e+00</td>\n",
       "      <td>2.467162e-17</td>\n",
       "      <td>-6.167906e-18</td>\n",
       "      <td>9.008803e-18</td>\n",
       "      <td>-1.323168e-17</td>\n",
       "      <td>0.000000e+00</td>\n",
       "    </tr>\n",
       "    <tr>\n",
       "      <th>maint</th>\n",
       "      <td>2.467162e-17</td>\n",
       "      <td>1.000000e+00</td>\n",
       "      <td>-1.644775e-18</td>\n",
       "      <td>-9.121413e-17</td>\n",
       "      <td>-4.025809e-17</td>\n",
       "      <td>-6.080942e-17</td>\n",
       "    </tr>\n",
       "    <tr>\n",
       "      <th>doors</th>\n",
       "      <td>-6.167906e-18</td>\n",
       "      <td>-1.644775e-18</td>\n",
       "      <td>1.000000e+00</td>\n",
       "      <td>2.815251e-19</td>\n",
       "      <td>5.320824e-17</td>\n",
       "      <td>6.080942e-17</td>\n",
       "    </tr>\n",
       "    <tr>\n",
       "      <th>persons</th>\n",
       "      <td>9.008803e-18</td>\n",
       "      <td>-9.121413e-17</td>\n",
       "      <td>2.815251e-19</td>\n",
       "      <td>1.000000e+00</td>\n",
       "      <td>7.401487e-17</td>\n",
       "      <td>0.000000e+00</td>\n",
       "    </tr>\n",
       "    <tr>\n",
       "      <th>lug_boot</th>\n",
       "      <td>-1.323168e-17</td>\n",
       "      <td>-4.025809e-17</td>\n",
       "      <td>5.320824e-17</td>\n",
       "      <td>7.401487e-17</td>\n",
       "      <td>1.000000e+00</td>\n",
       "      <td>0.000000e+00</td>\n",
       "    </tr>\n",
       "    <tr>\n",
       "      <th>safety</th>\n",
       "      <td>0.000000e+00</td>\n",
       "      <td>-6.080942e-17</td>\n",
       "      <td>6.080942e-17</td>\n",
       "      <td>0.000000e+00</td>\n",
       "      <td>0.000000e+00</td>\n",
       "      <td>1.000000e+00</td>\n",
       "    </tr>\n",
       "  </tbody>\n",
       "</table>\n",
       "</div>"
      ],
      "text/plain": [
       "                buying         maint         doors       persons  \\\n",
       "buying    1.000000e+00  2.467162e-17 -6.167906e-18  9.008803e-18   \n",
       "maint     2.467162e-17  1.000000e+00 -1.644775e-18 -9.121413e-17   \n",
       "doors    -6.167906e-18 -1.644775e-18  1.000000e+00  2.815251e-19   \n",
       "persons   9.008803e-18 -9.121413e-17  2.815251e-19  1.000000e+00   \n",
       "lug_boot -1.323168e-17 -4.025809e-17  5.320824e-17  7.401487e-17   \n",
       "safety    0.000000e+00 -6.080942e-17  6.080942e-17  0.000000e+00   \n",
       "\n",
       "              lug_boot        safety  \n",
       "buying   -1.323168e-17  0.000000e+00  \n",
       "maint    -4.025809e-17 -6.080942e-17  \n",
       "doors     5.320824e-17  6.080942e-17  \n",
       "persons   7.401487e-17  0.000000e+00  \n",
       "lug_boot  1.000000e+00  0.000000e+00  \n",
       "safety    0.000000e+00  1.000000e+00  "
      ]
     },
     "execution_count": 11,
     "metadata": {},
     "output_type": "execute_result"
    }
   ],
   "source": [
    "data_corr = data.loc[:, data.columns != 'class'].corr()\n",
    "data_corr"
   ]
  },
  {
   "cell_type": "markdown",
   "metadata": {},
   "source": [
    "We also used the heatmap() function in seaborn package to visualize the correlation coefficient."
   ]
  },
  {
   "cell_type": "code",
   "execution_count": 12,
   "metadata": {},
   "outputs": [
    {
     "data": {
      "image/png": "[encoded data removed]",
      "text/plain": [
       "<Figure size 576x576 with 2 Axes>"
      ]
     },
     "metadata": {
      "needs_background": "light"
     },
     "output_type": "display_data"
    }
   ],
   "source": [
    "import seaborn as sns\n",
    "\n",
    "plt.subplots(figsize=(8, 8))\n",
    "sns.heatmap(data_corr, annot=True, vmax=1, square=True, cmap=\"Reds\")\n",
    "plt.show()\n"
   ]
  },
  {
   "cell_type": "markdown",
   "metadata": {},
   "source": [
    "### 5. Train-test Split\n",
    "\n",
    "Then we perform the train-test split whose results will be used in every machine learning methods in the project.\n"
   ]
  },
  {
   "cell_type": "markdown",
   "metadata": {},
   "source": [
    "We first separate the target class from the rest of the attributes.\n"
   ]
  },
  {
   "cell_type": "code",
   "execution_count": 13,
   "metadata": {},
   "outputs": [],
   "source": [
    "from sklearn.model_selection import train_test_split\n",
    "\n",
    "# separate the target class from the rest of the attributes\n",
    "xs, ys = np.split(data.values, [-1], axis=1)\n"
   ]
  },
  {
   "cell_type": "markdown",
   "metadata": {},
   "source": [
    "Then we randomize the data and perform the train-test split (80% for training and 20% for testing).\n",
    "\n",
    "<b>Since the dataset is imbalanced, in case there will be few sample of certain classes in the test/training set, we keep the proportion of each class in both the training set and the test set by setting the 'stratify' attribute as 'ys'.</b>\n"
   ]
  },
  {
   "cell_type": "code",
   "execution_count": 14,
   "metadata": {},
   "outputs": [
    {
     "name": "stdout",
     "output_type": "stream",
     "text": [
      "training set shape:\t (1382, 6)\n",
      "test set shape:\t\t (346, 6)\n",
      "\n",
      "Proportion of each class in the training set:\n",
      "unacc 0.7\n",
      "acc 0.222\n",
      "vgood 0.038\n",
      "good 0.04\n",
      "\n",
      "Proportion of each class in the test set:\n",
      "unacc 0.699\n",
      "acc 0.223\n",
      "vgood 0.038\n",
      "good 0.04\n"
     ]
    }
   ],
   "source": [
    "from sklearn.model_selection import train_test_split\n",
    "\n",
    "xs_train, xs_test, ys_train, ys_test = train_test_split(\n",
    "    xs, ys, test_size=0.2, random_state=66, shuffle=True, stratify=ys)\n",
    "\n",
    "# show the shape of training set and test set\n",
    "print('training set shape:\\t', xs_train.shape)\n",
    "print('test set shape:\\t\\t', xs_test.shape)\n",
    "\n",
    "# a function to show the proportion of each class\n",
    "\n",
    "\n",
    "def show_proportion(dataset):\n",
    "    num = pd.DataFrame(dataset).value_counts()\n",
    "    for i in range(len(num)):\n",
    "        print(class_dic[i], round(num[i]/dataset.shape[0], 3))\n",
    "\n",
    "\n",
    "print('\\nProportion of each class in the training set:')\n",
    "show_proportion(ys_train)\n",
    "\n",
    "print('\\nProportion of each class in the test set:')\n",
    "show_proportion(ys_test)\n"
   ]
  },
  {
   "cell_type": "markdown",
   "metadata": {},
   "source": [
    "Finally, we save the xs_train, xs_test, ys_train, ys_test as .NPY files so that they can be used in other jyputer notebooks.\n"
   ]
  },
  {
   "cell_type": "code",
   "execution_count": 15,
   "metadata": {},
   "outputs": [],
   "source": [
    "np.save('data/xs_train.npy', xs_train)\n",
    "np.save('data/xs_test.npy', xs_test)\n",
    "np.save('data/ys_train.npy', ys_train)\n",
    "np.save('data/ys_test.npy', ys_test)\n"
   ]
  }
 ],
 "metadata": {
  "interpreter": {
   "hash": "2170c3643c18163fd448247d884e83f2cbff238ded6f73c792eee34c9a835a49"
  },
  "kernelspec": {
   "display_name": "Python 3",
   "language": "python",
   "name": "python3"
  },
  "language_info": {
   "codemirror_mode": {
    "name": "ipython",
    "version": 3
   },
   "file_extension": ".py",
   "mimetype": "text/x-python",
   "name": "python",
   "nbconvert_exporter": "python",
   "pygments_lexer": "ipython3",
   "version": "3.8.12"
  }
 },
 "nbformat": 4,
 "nbformat_minor": 4
}
