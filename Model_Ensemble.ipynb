{
 "cells": [
  {
   "cell_type": "markdown",
   "metadata": {},
   "source": [
    "# Model Ensemble\n",
    "\n",
    "In this notebook, we will make an ensemble of the models we have trained (decision tree, KNN, neural network and Gaussian Naive Bayes classifier) by implementing a voting classifier to improve the prediction performance.\n"
   ]
  },
  {
   "cell_type": "markdown",
   "metadata": {},
   "source": [
    "### 1. Data Loading\n",
    "\n",
    "We first load the training set and the test set (.NPY files).\n"
   ]
  },
  {
   "cell_type": "code",
   "execution_count": 83,
   "metadata": {},
   "outputs": [],
   "source": [
    "import numpy as np\n",
    "xs_test = np.load('data/xs_test.npy')\n",
    "xs_train = np.load('data/xs_train.npy')\n",
    "ys_test = np.load('data/ys_test.npy')\n",
    "ys_train = np.load('data/ys_train.npy')\n"
   ]
  },
  {
   "cell_type": "markdown",
   "metadata": {},
   "source": [
    "What's more, the dictionary files (.CSV) are also loaded.\n"
   ]
  },
  {
   "cell_type": "code",
   "execution_count": 84,
   "metadata": {},
   "outputs": [],
   "source": [
    "import csv\n",
    "\n",
    "att_dic = {}\n",
    "class_dic = {}\n",
    "\n",
    "# read the .csv files back to the dictionaries\n",
    "with open('data/att_dic.csv', 'r') as w:\n",
    "    csvreader = csv.reader(w)\n",
    "    for row in csvreader:\n",
    "        att_dic[row[0]] = row[1]\n",
    "\n",
    "with open('data/class_dic.csv', 'r') as w:\n",
    "    csvreader = csv.reader(w)\n",
    "    for row in csvreader:\n",
    "        class_dic[row[0]] = row[1]\n"
   ]
  },
  {
   "cell_type": "markdown",
   "metadata": {},
   "source": [
    "### 2. Pre-trained Models Loading\n",
    "\n",
    "Since in the training process of each model, we have saved the trained model in the \"models\" folder, now we load them.\n"
   ]
  },
  {
   "cell_type": "markdown",
   "metadata": {},
   "source": [
    "In order to load the neural network which was implemented with PyTorch, we have to first re-define the class of the network.\n"
   ]
  },
  {
   "cell_type": "code",
   "execution_count": 85,
   "metadata": {},
   "outputs": [],
   "source": [
    "import torch.nn as nn\n",
    "\n",
    "# a class to define the components of the neural network.\n",
    "\n",
    "\n",
    "class MLPerceptron(nn.Module):\n",
    "\n",
    "    def __init__(self, input_size, hidden_layer_sizes, output_size, activation_function):\n",
    "        super(MLPerceptron, self).__init__()\n",
    "        # a list of layers\n",
    "        self.layers = nn.ModuleList()\n",
    "        # get the size of input layer\n",
    "        next_hidden_size = input_size\n",
    "        # define the input and the hidden layers\n",
    "        for hidden_size in hidden_layer_sizes:\n",
    "            self.layers.append(nn.Linear(next_hidden_size, hidden_size))\n",
    "            next_hidden_size = hidden_size\n",
    "        # define the output layer\n",
    "        self.output = nn.Linear(next_hidden_size, output_size)\n",
    "        self.activation_function = activation_function\n",
    "\n",
    "    # a method to define the forward pass\n",
    "    def forward(self, x):\n",
    "        out = x\n",
    "        for layer in self.layers:\n",
    "            out = layer(out)\n",
    "            # the activation function which may work after each layer (except output layer)\n",
    "            # here the activation function is chosen according to self.activation_function\n",
    "            if self.activation_function == 'Sigmoid':\n",
    "                out = torch.sigmoid(out)\n",
    "            elif self.activation_function == 'ReLU':\n",
    "                out = torch.relu(out)\n",
    "            elif self.activation_function == 'Tanh':\n",
    "                out = torch.tanh(out)\n",
    "        out = self.output(out)\n",
    "        return out\n"
   ]
  },
  {
   "cell_type": "markdown",
   "metadata": {},
   "source": [
    "For models implemented with scikit-learn package, we use joblib.load() method to load them;\n",
    "\n",
    "For the model realised with PyTorch (neural network), torch.load() method is used.\n"
   ]
  },
  {
   "cell_type": "code",
   "execution_count": 86,
   "metadata": {},
   "outputs": [],
   "source": [
    "import joblib\n",
    "import torch\n",
    "\n",
    "nn_clf = torch.load('models/Neural_Network.pth')\n",
    "tree_clf = joblib.load('models/Decision_Tree.model')\n",
    "GNB_clf = joblib.load('models/Gaussian_Naive_Bayes.model')\n",
    "KNN_clf = joblib.load('models/Instance_Based_KNN.model')\n",
    "SVM_clf = joblib.load('models/Instance_Based_SVM.model')\n"
   ]
  },
  {
   "cell_type": "markdown",
   "metadata": {},
   "source": [
    "### 3. Define the Voting Classifier\n",
    "\n",
    "There is a VotingClassifier() model in the scikit-learn package. However, it only supports to combine the scikit-learn models which are trained on the same training set.\n",
    "\n",
    "Since we trained the models with data which was pre-processed with different methods (e.g., for KNN, we did normalization.), and the neural network was trained with PyTorch framework, we try to <b>define a voting classifier class by ourselves</b> which can be used to combine any pretrained models implemented with Pytorch or scikit-learn.\n"
   ]
  },
  {
   "cell_type": "markdown",
   "metadata": {},
   "source": [
    "The VotingClassifier() we defined has the following two parameters:\n",
    "\n",
    "- <b>classfiers</b>: A list of pre-trained models to be combined (both sklearn and Pytorch models are accepted).\n",
    "\n",
    "- <b>voting_mode</b>: A parameter controlling whether to use Hard Voting or Soft Voting.\n",
    "\n",
    "&ensp;&ensp;&ensp;&ensp;&ensp;&ensp;&ensp;&ensp;&ensp;&ensp;if set as <b>'hard'</b>, it will predict the class with the largest sum of votes from the models;\n",
    "\n",
    "&ensp;&ensp;&ensp;&ensp;&ensp;&ensp;&ensp;&ensp;&ensp;&ensp;if set as <b>'soft'</b>, it will predict the class with the largest summed probability from the models;\n"
   ]
  },
  {
   "cell_type": "code",
   "execution_count": 87,
   "metadata": {},
   "outputs": [],
   "source": [
    "class VotingClassifier():\n",
    "    # the constructor of the class\n",
    "    def __init__(self, classifiers, voting_mode):\n",
    "        # a list which contains the pre-trained models to be ensembled\n",
    "        self.classifiers = classifiers\n",
    "        # a parameter controlling whether to use Hard Voting or Soft Voting\n",
    "        self.voting_mode = voting_mode\n",
    "\n",
    "    # the method used to predict a set of data\n",
    "    def predict(self, xs):\n",
    "        # in order to normalize the data when predicting with neighbors models such as KNN\n",
    "        # we first calculate the mean value and the standard deviation of the training set\n",
    "        mu = np.mean(xs_train, axis=0)\n",
    "        sigma = np.std(xs_train, axis=0)\n",
    "        xs_normal = (xs-mu)/sigma\n",
    "        # a list used to store the output value (class)\n",
    "        ys_output = []\n",
    "\n",
    "        # if Hard Voting\n",
    "        if self.voting_mode == 'hard':\n",
    "            # a np.array which records the prediction results of each model\n",
    "            ys = np.zeros([xs.shape[0], len(self.classifiers)], dtype=int)\n",
    "\n",
    "            # for each classifier\n",
    "            for i, clf in enumerate(self.classifiers):\n",
    "\n",
    "                # if the classifier is a sklearn model\n",
    "                if 'sklearn' in str(type(clf)):\n",
    "                    # for the neighbors models such as KNN, use the normalized data\n",
    "                    if 'neighbors' in str(type(clf)):\n",
    "                        ys[:, i] = clf.predict(xs_normal)\n",
    "                    # for the other model, use the orignal data\n",
    "                    else:\n",
    "                        ys[:, i] = clf.predict(xs)\n",
    "\n",
    "                # if the classifier is a PyTorch model\n",
    "                else:\n",
    "                    # convert the data to tensor\n",
    "                    xs = torch.from_numpy(xs).type(torch.FloatTensor)\n",
    "                    # predict with the model\n",
    "                    hat_ys = clf(xs)\n",
    "                    _, hat_ys = torch.max(hat_ys, 1)\n",
    "                    ys[:, i] = hat_ys.numpy()\n",
    "\n",
    "            # for each line of ys\n",
    "            for y in ys:\n",
    "                # record the class with the largest sum of votes from the models\n",
    "                ys_output.append(np.argmax(np.bincount(y)))\n",
    "\n",
    "        # if Soft Voting\n",
    "        elif self.voting_mode == 'soft':\n",
    "            # a np.array which records the sum of the probability of each class\n",
    "            ys = np.zeros([xs.shape[0], 4], dtype=int)\n",
    "\n",
    "            # for each classifier\n",
    "            for i, clf in enumerate(self.classifiers):\n",
    "\n",
    "                # if the classifier is a sklearn model\n",
    "                if 'sklearn' in str(type(clf)):\n",
    "                    # for the neighbors models such as KNN, use the normalized data\n",
    "                    if 'neighbors' in str(type(clf)):\n",
    "                        # add the probability of each class to the ys array\n",
    "                        ys = ys + clf.predict_proba(xs_normal)\n",
    "                    # for the other model, use the orignal data\n",
    "                    else:\n",
    "                        # add the probability of each class to the ys array\n",
    "                        ys = ys + clf.predict_proba(xs)\n",
    "\n",
    "                # if the classifier is a PyTorch model\n",
    "                else:\n",
    "                    xs_torch = torch.from_numpy(xs).type(torch.FloatTensor)\n",
    "                    net = nn.Softmax(dim=1)\n",
    "                    hat_ys = net(clf(xs_torch)).detach().numpy()\n",
    "                    # add the probability of each class to the ys array\n",
    "                    ys = ys + hat_ys\n",
    "\n",
    "            # output the class which has the largest summed probability from the models\n",
    "            for y in ys:\n",
    "                ys_output.append(np.argmax(y))\n",
    "\n",
    "        return (ys_output)\n"
   ]
  },
  {
   "cell_type": "markdown",
   "metadata": {},
   "source": [
    "### 4. Model Construction and Evaluation\n",
    "\n",
    "Then we construct two voting classifiers which combine all the models we have trained in both 'soft' mode and 'hard' mode.\n",
    "\n",
    "<b>N.B. We don't tune the hyperparameters in this section with grid search for we can't do that -- since some of these models were tuned with cross validation and trained on the whole training set, if we do grid search here, we will not have the data for validation. Only if the models were tuned with a fixed validation set can we tune the voting classifier here.</b>\n"
   ]
  },
  {
   "cell_type": "code",
   "execution_count": 88,
   "metadata": {},
   "outputs": [],
   "source": [
    "# a soft voting classifier ensembling all the trained models\n",
    "soft_voting_clf = VotingClassifier(\n",
    "    [tree_clf, KNN_clf, nn_clf, GNB_clf, SVM_clf], 'soft')\n",
    "\n",
    "# a hard voting classifier ensembling all the trained models\n",
    "hard_voting_clf = VotingClassifier(\n",
    "    [tree_clf, KNN_clf, nn_clf, GNB_clf, SVM_clf], 'hard')\n"
   ]
  },
  {
   "cell_type": "markdown",
   "metadata": {},
   "source": [
    "Then, we evaluate both of the two classifiers by making classification reports on the test set for them.\n"
   ]
  },
  {
   "cell_type": "code",
   "execution_count": 89,
   "metadata": {},
   "outputs": [
    {
     "name": "stdout",
     "output_type": "stream",
     "text": [
      "Classification Report of the Soft Voting Classifier on the Test set: \n",
      "\n",
      "               precision    recall  f1-score   support\n",
      "\n",
      "           0     0.9918    1.0000    0.9959       242\n",
      "           1     0.9868    0.9740    0.9804        77\n",
      "           2     1.0000    0.9231    0.9600        13\n",
      "           3     1.0000    1.0000    1.0000        14\n",
      "\n",
      "    accuracy                         0.9913       346\n",
      "   macro avg     0.9947    0.9743    0.9841       346\n",
      "weighted avg     0.9913    0.9913    0.9913       346\n",
      "\n",
      "Classification Report of the Hard Voting Classifier on the Test set: \n",
      "\n",
      "               precision    recall  f1-score   support\n",
      "\n",
      "           0     0.9798    1.0000    0.9898       242\n",
      "           1     0.9865    0.9481    0.9669        77\n",
      "           2     1.0000    0.9231    0.9600        13\n",
      "           3     1.0000    0.9286    0.9630        14\n",
      "\n",
      "    accuracy                         0.9827       346\n",
      "   macro avg     0.9916    0.9499    0.9699       346\n",
      "weighted avg     0.9828    0.9827    0.9825       346\n",
      "\n"
     ]
    }
   ],
   "source": [
    "from sklearn.metrics import classification_report\n",
    "\n",
    "ys_test_pred_soft = soft_voting_clf.predict(xs_test)\n",
    "ys_test_pred_hard = hard_voting_clf.predict(xs_test)\n",
    "\n",
    "# print the classfication report\n",
    "print('Classification Report of the Soft Voting Classifier on the Test set: \\n\\n',\n",
    "      classification_report(ys_test, ys_test_pred_soft, digits=4))\n",
    "\n",
    "# print the classfication report\n",
    "print('Classification Report of the Hard Voting Classifier on the Test set: \\n\\n',\n",
    "      classification_report(ys_test, ys_test_pred_hard, digits=4))\n"
   ]
  },
  {
   "cell_type": "markdown",
   "metadata": {},
   "source": [
    "As what we have done for other models, we also plot the Confusion Matrix Heatmaps for them to better present the classification results.\n"
   ]
  },
  {
   "cell_type": "code",
   "execution_count": 90,
   "metadata": {},
   "outputs": [
    {
     "data": {
      "image/png": "[encoded data removed]",
      "text/plain": [
       "<Figure size 720x720 with 1 Axes>"
      ]
     },
     "metadata": {
      "needs_background": "light"
     },
     "output_type": "display_data"
    }
   ],
   "source": [
    "import seaborn as sns\n",
    "from matplotlib import pyplot as plt\n",
    "from sklearn.metrics import confusion_matrix\n",
    "\n",
    "# construct a confusion matrix which shows the accuracy on each class\n",
    "mat_soft = confusion_matrix(ys_test, ys_test_pred_soft)\n",
    "\n",
    "# plot the confusion matrix into a heatmap\n",
    "plt.subplots(figsize=(10, 10))\n",
    "sns.heatmap(mat_soft.T, square=True, annot=True, fmt='d', cbar=False,\n",
    "            xticklabels=class_dic.values(), yticklabels=class_dic.values())\n",
    "# set the x and y label of the figure\n",
    "plt.xlabel('True Label')\n",
    "plt.ylabel('Predicted Label')\n",
    "plt.title('Confusion Matrix Heatmap on the Test Set (Soft Voting Classifier)')\n",
    "plt.show()\n"
   ]
  },
  {
   "cell_type": "code",
   "execution_count": 91,
   "metadata": {},
   "outputs": [
    {
     "data": {
      "image/png": "[encoded data removed]",
      "text/plain": [
       "<Figure size 720x720 with 1 Axes>"
      ]
     },
     "metadata": {
      "needs_background": "light"
     },
     "output_type": "display_data"
    }
   ],
   "source": [
    "# construct a confusion matrix which shows the accuracy on each class\n",
    "mat_hard = confusion_matrix(ys_test, ys_test_pred_hard)\n",
    "\n",
    "# plot the confusion matrix into a heatmap\n",
    "plt.subplots(figsize=(10, 10))\n",
    "sns.heatmap(mat_hard.T, square=True, annot=True, fmt='d', cbar=False,\n",
    "            xticklabels=class_dic.values(), yticklabels=class_dic.values())\n",
    "# set the x and y label of the figure\n",
    "plt.xlabel('True Label')\n",
    "plt.ylabel('Predicted Label')\n",
    "plt.title('Confusion Matrix Heatmap on the Test Set (Hard Voting Classifier)')\n",
    "plt.show()\n"
   ]
  },
  {
   "cell_type": "markdown",
   "metadata": {},
   "source": [
    "### 4. Model Comparison\n",
    "\n",
    "Finally, we try to compare the prediction performace of the models on the test set.\n"
   ]
  },
  {
   "cell_type": "markdown",
   "metadata": {},
   "source": [
    "First of all, we define a function which can output the prediction performance of different models on the same test set as a list."
   ]
  },
  {
   "cell_type": "code",
   "execution_count": 92,
   "metadata": {},
   "outputs": [],
   "source": [
    "from sklearn.metrics import f1_score\n",
    "from sklearn.metrics import recall_score\n",
    "from sklearn.metrics import precision_score\n",
    "\n",
    "# a function to output the prediction performance of different models on the same test set\n",
    "def performance_of_models(models, xs_test, ys_test, metric):\n",
    "\n",
    "    # in order to normalize the data when predicting with neighbors models such as KNN\n",
    "    # we first calculate the mean value and the standard deviation of the training set\n",
    "    mu = np.mean(xs_train, axis=0)\n",
    "    sigma = np.std(xs_train, axis=0)\n",
    "    xs_test_normal = (xs_test-mu)/sigma\n",
    "\n",
    "    # a list to record the weighted F1 scores on each models\n",
    "    metrics = []\n",
    "\n",
    "    # set the metric for evaluating the model\n",
    "    if metric == 'f1':\n",
    "        evaluate_model = f1_score\n",
    "\n",
    "    elif metric == 'recall':\n",
    "        evaluate_model = recall_score\n",
    "    \n",
    "    elif metric == 'pre':\n",
    "        evaluate_model = precision_score\n",
    "\n",
    "    # for each model\n",
    "    for model in models:\n",
    "        # if the classifier is a sklearn model\n",
    "        if 'sklearn' in str(type(model)) or 'VotingClassifier' in str(type(model)):\n",
    "            # for the neighbors models such as KNN, use the normalized data\n",
    "            if 'neighbors' in str(type(model)):\n",
    "                # append the metric to the metrics list\n",
    "                ys_test_pred = model.predict(xs_test_normal)\n",
    "                metrics.append(evaluate_model(\n",
    "                    ys_test, ys_test_pred, average='weighted'))\n",
    "            # for the other models, use the orignal data\n",
    "            else:\n",
    "                # append the metric to the metrics list\n",
    "                ys_test_pred = model.predict(xs_test)\n",
    "                metrics.append(evaluate_model(\n",
    "                    ys_test, ys_test_pred, average='weighted'))\n",
    "\n",
    "        # if the classifier is a PyTorch model\n",
    "        else:\n",
    "            # convert the data to tensor\n",
    "            xs = torch.from_numpy(xs_test).type(torch.FloatTensor)\n",
    "            # predict with the model\n",
    "            hat_ys = model(xs)\n",
    "            _, hat_ys = torch.max(hat_ys, 1)\n",
    "            ys_test_pred = hat_ys.numpy()\n",
    "            # append the metric to the metrics list\n",
    "            metrics.append(evaluate_model(\n",
    "                ys_test, ys_test_pred, average='weighted'))\n",
    "    return metrics\n"
   ]
  },
  {
   "cell_type": "markdown",
   "metadata": {},
   "source": [
    "Then, we use the function to plot a bar chart which shows the weighted F1 score of each models on the test set.\n",
    "\n",
    "According to the bar chart, the prediction performance of the Gaussian Naive Bayes classifier is much worse than that of others. This may due to the fact that the values of each class in our dataset are not normally distributed, which is against the assumption of the model. "
   ]
  },
  {
   "cell_type": "code",
   "execution_count": 93,
   "metadata": {},
   "outputs": [
    {
     "data": {
      "image/png": "[encoded data removed]",
      "text/plain": [
       "<Figure size 1200x600 with 1 Axes>"
      ]
     },
     "metadata": {
      "needs_background": "light"
     },
     "output_type": "display_data"
    }
   ],
   "source": [
    "\n",
    "# set the size of the figure\n",
    "plt.figure(figsize=(10, 5), dpi=120)\n",
    "\n",
    "# get the F1 score of each model\n",
    "f1s = performance_of_models([tree_clf, KNN_clf, SVM_clf, GNB_clf, nn_clf,\n",
    "                            soft_voting_clf, hard_voting_clf], xs_test, ys_test, 'f1')\n",
    "\n",
    "# set the lable of the bars\n",
    "labels = ['Decision Tree', 'KNN', 'SVM',\n",
    "          'Naive Bayes', 'MLP', 'Soft Voting', 'Hard Voting']\n",
    "plt.grid(color='black',  linewidth=1, axis='y', alpha=0.3)\n",
    "\n",
    "# plot the bar chart\n",
    "p2 = plt.bar(range(len(f1s)), f1s)\n",
    "\n",
    "# show the values on the top of the bars\n",
    "for x, value in zip(range(len(f1s)), f1s):\n",
    "    plt.text(x, value+0.001, round(value, 4), ha='center')\n",
    "\n",
    "# set the xticks as the labels (name of the models)\n",
    "plt.xticks(range(len(f1s)), labels)\n",
    "# set the ylim so that the difference can be shown clearly\n",
    "plt.ylim((0.75, 1))\n",
    "# set the x and y label of the figure\n",
    "plt.xlabel('Model')\n",
    "plt.ylabel('Weighted F1 score')\n",
    "plt.show()\n"
   ]
  },
  {
   "cell_type": "markdown",
   "metadata": {},
   "source": [
    "In order to show the slight difference between the performance of the models clearly, we exclude the Naive Bayes Model, set the ylim from 0.95 to 0.995 and plot the figure again.\n",
    "\n",
    "According to the bar chart, we can see that the soft voting classifier gets the greatest F1 score, which shows the effect of voting ensemble in improving the prediction performance."
   ]
  },
  {
   "cell_type": "code",
   "execution_count": 94,
   "metadata": {},
   "outputs": [
    {
     "data": {
      "image/png": "[encoded data removed]",
      "text/plain": [
       "<Figure size 1200x600 with 1 Axes>"
      ]
     },
     "metadata": {
      "needs_background": "light"
     },
     "output_type": "display_data"
    }
   ],
   "source": [
    "\n",
    "# set the size of the figure\n",
    "plt.figure(figsize=(10, 5), dpi=120)\n",
    "\n",
    "# get the F1 score of each model\n",
    "f1s = performance_of_models([tree_clf, KNN_clf, SVM_clf, nn_clf,\n",
    "                            soft_voting_clf, hard_voting_clf], xs_test, ys_test, 'f1')\n",
    "\n",
    "# set the lable of the bars\n",
    "labels = ['Decision Tree','KNN','SVM','MLP','Soft Voting','Hard Voting']\n",
    "plt.grid(color='black', linewidth=1, axis='y', alpha=0.3)\n",
    "\n",
    "# plot the bar chart\n",
    "p2 = plt.bar(range(len(f1s)), f1s)\n",
    "\n",
    "# show the values on the top of the bars  \n",
    "for x,value in zip(range(len(f1s)),f1s):\n",
    "    plt.text(x,value+0.001,round(value,4),ha='center')\n",
    "\n",
    "# set the xticks as the labels (name of the models)\n",
    "plt.xticks(range(len(f1s)),labels)\n",
    "# set the ylim so that the difference can be shown clearly\n",
    "plt.ylim((0.95,0.995))\n",
    "# set the x and y label of the figure   \n",
    "plt.xlabel('Model')\n",
    "plt.ylabel('Weighted F1 score')\n",
    "plt.show()"
   ]
  }
 ],
 "metadata": {
  "interpreter": {
   "hash": "2170c3643c18163fd448247d884e83f2cbff238ded6f73c792eee34c9a835a49"
  },
  "kernelspec": {
   "display_name": "Python 3.8.12 ('MachineLearning')",
   "language": "python",
   "name": "python3"
  },
  "language_info": {
   "codemirror_mode": {
    "name": "ipython",
    "version": 3
   },
   "file_extension": ".py",
   "mimetype": "text/x-python",
   "name": "python",
   "nbconvert_exporter": "python",
   "pygments_lexer": "ipython3",
   "version": "3.8.12"
  },
  "orig_nbformat": 4
 },
 "nbformat": 4,
 "nbformat_minor": 2
}
