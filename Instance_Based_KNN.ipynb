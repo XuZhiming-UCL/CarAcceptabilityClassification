{
 "cells": [
  {
   "cell_type": "markdown",
   "id": "b8ef2913",
   "metadata": {},
   "source": [
    "# Instance Based Learning (K-nearest Neighbors) "
   ]
  },
  {
   "cell_type": "markdown",
   "id": "c21d71de",
   "metadata": {},
   "source": [
    "In this notebook, we will use the scikit-learn package to implement a KNN model for car acceptability classification."
   ]
  },
  {
   "cell_type": "markdown",
   "id": "edc9a4cf",
   "metadata": {},
   "source": [
    "### 1. Data Loading and Normalization\n",
    "\n",
    "We first load the training set and the test set (.NPY files)."
   ]
  },
  {
   "cell_type": "code",
   "execution_count": 1,
   "id": "bcb5928b",
   "metadata": {},
   "outputs": [],
   "source": [
    "import numpy as np\n",
    "xs_test = np.load('data/xs_test.npy')\n",
    "xs_train = np.load('data/xs_train.npy')\n",
    "ys_test = np.load('data/ys_test.npy')\n",
    "ys_train = np.load('data/ys_train.npy')"
   ]
  },
  {
   "cell_type": "markdown",
   "id": "5cb97e8a",
   "metadata": {},
   "source": [
    "What's more, the dictionary files (.CSV) are also loaded."
   ]
  },
  {
   "cell_type": "code",
   "execution_count": 2,
   "metadata": {},
   "outputs": [],
   "source": [
    "import csv\n",
    "\n",
    "att_dic = {}\n",
    "class_dic = {}\n",
    "\n",
    "# read the .csv files back to the dictionaries\n",
    "with open('data/att_dic.csv', 'r') as w:\n",
    "    csvreader = csv.reader(w)\n",
    "    for row in csvreader:\n",
    "        att_dic[row[0]] = row[1]\n",
    "\n",
    "with open('data/class_dic.csv', 'r') as w:\n",
    "    csvreader = csv.reader(w)\n",
    "    for row in csvreader:\n",
    "        class_dic[row[0]] = row[1]\n"
   ]
  },
  {
   "cell_type": "markdown",
   "id": "3d247284",
   "metadata": {},
   "source": [
    "Considering that there is a range of variation in different attributes of the dataset, which can have an impact on the unbiasedness of the distance-based algorithm, we then normalize the data with the formula below:\n",
    "\n",
    "$X_n=(X-μ_t)/σ_t$ \n",
    "\n",
    "Where $X_n$ is the value after normalization, $μ_t$ and $σ_t$ are the mean value and the standard deviation of the training set, respectively.\n"
   ]
  },
  {
   "cell_type": "code",
   "execution_count": 3,
   "id": "dcd80c62",
   "metadata": {},
   "outputs": [],
   "source": [
    "mu = np.mean(xs_train, axis=0)\n",
    "sigma = np.std(xs_train, axis=0)\n",
    "\n",
    "xs_train = (xs_train - mu)/sigma\n",
    "xs_test = (xs_test - mu)/sigma"
   ]
  },
  {
   "cell_type": "markdown",
   "id": "b6a1866c",
   "metadata": {},
   "source": [
    "### 2. Parameter Tuning\n",
    "\n",
    "To realise the KNN model, we utilize the KNeighborsClassifier() model of sklearn package to train on our dataset. "
   ]
  },
  {
   "cell_type": "markdown",
   "id": "989089d4",
   "metadata": {},
   "source": [
    "To find a model which fits our data well by hyperparameter tuning, we first check what parameters do KNeighborsClassifier() model have.\n",
    "\n",
    "According to the output, KNeighborsClassifier() has 8 parameters. Here we only focus on the following three of them:\n",
    "\n",
    "- <b>n_neighbors:</b> Number of neighbors to use, default value is 5.  \n",
    "\n",
    "\n",
    "- <b>weights:</b> Weight function used in prediction. Possible values: \n",
    "\n",
    "&ensp;&ensp;&ensp;&ensp;&ensp;&ensp;&ensp;  <b>'uniform':</b> uniform weights. All points in each neighborhood are weighted equally. \n",
    "\n",
    "&ensp;&ensp;&ensp;&ensp;&ensp;&ensp;&ensp;  <b>'distance':</b> weight points by the inverse of their distance. in this case, closer neighbors of a query point will have a greater influence than neighbors which are further away. \n",
    "\n",
    "&ensp;&ensp;&ensp;&ensp;&ensp;&ensp;&ensp; <b>[callable]:</b> a user-defined function which accepts an array of distances, and returns an array of the same shape containing the weights.  \n",
    "\n",
    "- <b>metric:</b> The metric used to evaluate the distance. Possible values: \n",
    "\n",
    "&ensp;&ensp;&ensp;&ensp;&ensp;&ensp;&ensp;  <b>'euclidean' :</b> EuclideanDistance.\n",
    "\n",
    "&ensp;&ensp;&ensp;&ensp;&ensp;&ensp;&ensp; <b>'manhattan':</b> ManhattanDistance.\n"
   ]
  },
  {
   "cell_type": "code",
   "execution_count": 4,
   "id": "d08d2baf",
   "metadata": {},
   "outputs": [
    {
     "name": "stdout",
     "output_type": "stream",
     "text": [
      "Parameters of KNN: ['algorithm', 'leaf_size', 'metric', 'metric_params', 'n_jobs', 'n_neighbors', 'p', 'weights']\n"
     ]
    }
   ],
   "source": [
    "# Import KNN model\n",
    "from sklearn.neighbors import KNeighborsClassifier\n",
    "\n",
    "# Take a look at which parameters can be tuned\n",
    "KNN_params = list(KNeighborsClassifier().get_params().keys())\n",
    "print(\"Parameters of KNN:\", KNN_params)\n"
   ]
  },
  {
   "cell_type": "markdown",
   "id": "18a5db28",
   "metadata": {},
   "source": [
    "Then, we define a dictionary called \"param_grid\" which contains some possible values of parameters, and use the GridSearchCV() method to train KNN models on each combination of the hyperparameters. In addition, we also do the 5-fold cross validation when tuning the parameters to better estimate the performance of the model on new data."
   ]
  },
  {
   "cell_type": "code",
   "execution_count": 5,
   "id": "e2a6ddc8",
   "metadata": {},
   "outputs": [
    {
     "data": {
      "text/plain": [
       "GridSearchCV(cv=KFold(n_splits=5, random_state=41, shuffle=True),\n",
       "             estimator=KNeighborsClassifier(),\n",
       "             param_grid=[{'metric': ['euclidean', 'manhattan', 'cosine'],\n",
       "                          'n_neighbors': range(1, 20),\n",
       "                          'weights': ['uniform', 'distance']}],\n",
       "             scoring='f1_weighted')"
      ]
     },
     "execution_count": 5,
     "metadata": {},
     "output_type": "execute_result"
    }
   ],
   "source": [
    "from sklearn.model_selection import GridSearchCV, KFold\n",
    "from sklearn.neighbors import KNeighborsClassifier\n",
    "\n",
    "# Set the range of values of parameters in which we do grid search \n",
    "param_grid = [{\n",
    "    'weights': [\"uniform\", \"distance\"],\n",
    "    'n_neighbors': range(1, 20),\n",
    "    'metric':['euclidean', 'manhattan', 'cosine']}]\n",
    "\n",
    "knn_clf = KNeighborsClassifier()\n",
    "cv = KFold(n_splits=5, shuffle=True, random_state=41)\n",
    "grid_search = GridSearchCV(knn_clf, param_grid, cv=cv, scoring=\"f1_weighted\", verbose=0)\n",
    "grid_search.fit(xs_train, ys_train.ravel())\n"
   ]
  },
  {
   "cell_type": "markdown",
   "id": "f98c327f",
   "metadata": {},
   "source": [
    "By outputting the best estimator of the grid search, we can see that when setting metirc as 'enclidean', n-neighbors=8 and weights='distance', the KNN classifier gets the best weighted F1 score in the validation."
   ]
  },
  {
   "cell_type": "code",
   "execution_count": 6,
   "id": "3c6be55b",
   "metadata": {},
   "outputs": [
    {
     "name": "stdout",
     "output_type": "stream",
     "text": [
      "Best metric : euclidean\n",
      "Best n_neighbors : 8\n",
      "Best weights : distance\n"
     ]
    }
   ],
   "source": [
    "# output the best combination of parameters\n",
    "for param in grid_search.best_params_:\n",
    "    print('Best', param, ':',grid_search.best_params_[param])"
   ]
  },
  {
   "cell_type": "markdown",
   "id": "1edcddc8",
   "metadata": {},
   "source": [
    "To visualize the process of parameter tuning, setting weight='distance', we plot the line chart of weighted F1 score with respect to the number of neighbors (n_neighbors) in different metric settings. \n",
    "\n",
    "The chart verifies that when the metirc and n_neighbor are set as 'enclidean' and 8, the weighted F1 score reaches the peak in the cross validation."
   ]
  },
  {
   "cell_type": "code",
   "execution_count": 7,
   "id": "7a49849c",
   "metadata": {},
   "outputs": [
    {
     "data": {
      "image/png": "[encoded data removed]",
      "text/plain": [
       "<Figure size 432x288 with 1 Axes>"
      ]
     },
     "metadata": {
      "needs_background": "light"
     },
     "output_type": "display_data"
    }
   ],
   "source": [
    "import matplotlib.pyplot as plt\n",
    "\n",
    "mean_score = grid_search.cv_results_['mean_test_score']\n",
    "\n",
    "# print(grid_search.cv_results_)\n",
    "f1_euclidean = [None]\n",
    "f1_manhattan = [None]\n",
    "f1_cosine = [None]\n",
    "\n",
    "# append the weighted F1 score in different n_neighbor settings to three list\n",
    "for i in range(len(mean_score)):\n",
    "    if grid_search.cv_results_['param_metric'][i] == 'euclidean' and grid_search.cv_results_['param_weights'][i] == 'distance':\n",
    "        f1_euclidean.append(mean_score[i])\n",
    "    elif grid_search.cv_results_['param_metric'][i] == 'manhattan' and grid_search.cv_results_['param_weights'][i] == 'distance':\n",
    "        f1_manhattan.append(mean_score[i])\n",
    "    elif grid_search.cv_results_['param_metric'][i] == 'cosine' and grid_search.cv_results_['param_weights'][i] == 'distance':\n",
    "        f1_cosine.append(mean_score[i])\n",
    "        \n",
    "# plot line chart\n",
    "plt.plot(f1_euclidean, label='euclidean')\n",
    "plt.plot(f1_manhattan, label='manhattan')\n",
    "plt.plot(f1_cosine, label='cosine')\n",
    "\n",
    "# plot the point with the biggest F1 score\n",
    "if grid_search.best_params_['metric'] == 'euclidean':\n",
    "    best_f1 = f1_euclidean[grid_search.best_params_['n_neighbors']]\n",
    "elif grid_search.best_params_['metric'] == 'manhattan':\n",
    "    best_f1 = f1_manhattan[grid_search.best_params_['n_neighbors']]\n",
    "elif grid_search.best_params_['metric'] == 'cosine':\n",
    "    best_f1 = f1_cosine[grid_search.best_params_['n_neighbors']]\n",
    "plt.plot(grid_search.best_params_['n_neighbors'],best_f1,'ro',label='best point')\n",
    "\n",
    "# set the lable of the graph\n",
    "plt.xlabel('Number of Neighbors')\n",
    "plt.ylabel('Weighted F1 Score')\n",
    "plt.xticks(np.arange(0,20,1))\n",
    "# plot the legend of the graph\n",
    "plt.legend(loc='lower right')\n",
    "\n",
    "plt.show()"
   ]
  },
  {
   "cell_type": "markdown",
   "id": "b662d2c1",
   "metadata": {},
   "source": [
    "### 3. Model Training and Evaluation\n",
    "\n",
    "Then, using the best combination of hyperparameters output by the grid search, we construct and train a KNN classifier on the training set."
   ]
  },
  {
   "cell_type": "code",
   "execution_count": 8,
   "id": "2550bc99",
   "metadata": {},
   "outputs": [
    {
     "data": {
      "text/plain": [
       "KNeighborsClassifier(metric='euclidean', n_neighbors=8, weights='distance')"
      ]
     },
     "execution_count": 8,
     "metadata": {},
     "output_type": "execute_result"
    }
   ],
   "source": [
    "# Best Model: metric='euclidean', n_neighbors=8, weights='distance'\n",
    "knn_clf = KNeighborsClassifier(metric='euclidean', n_neighbors=8, weights='distance')\n",
    "knn_clf.fit(xs_train, ys_train.ravel())"
   ]
  },
  {
   "cell_type": "markdown",
   "id": "12d2d49d",
   "metadata": {},
   "source": [
    "In order to use the trained model again in the Model Ensemble Part, we save the model with joblib() method in sklearn."
   ]
  },
  {
   "cell_type": "code",
   "execution_count": 9,
   "id": "854d51f6",
   "metadata": {},
   "outputs": [
    {
     "data": {
      "text/plain": [
       "['models/Instance_Based_KNN.model']"
      ]
     },
     "execution_count": 9,
     "metadata": {},
     "output_type": "execute_result"
    }
   ],
   "source": [
    "import joblib\n",
    "# save the trained KNN model\n",
    "joblib.dump(knn_clf, 'models/Instance_Based_KNN.model')"
   ]
  },
  {
   "cell_type": "markdown",
   "id": "dbf554b4",
   "metadata": {},
   "source": [
    "Finally, we evaluate the KNN model by making classification reports both on the traing set and on the test set."
   ]
  },
  {
   "cell_type": "code",
   "execution_count": 10,
   "id": "f232f83b",
   "metadata": {},
   "outputs": [
    {
     "name": "stdout",
     "output_type": "stream",
     "text": [
      "Classification Report of KNN on the Training set: \n",
      "\n",
      "               precision    recall  f1-score   support\n",
      "\n",
      "           0     1.0000    1.0000    1.0000       968\n",
      "           1     1.0000    1.0000    1.0000       307\n",
      "           2     1.0000    1.0000    1.0000        52\n",
      "           3     1.0000    1.0000    1.0000        55\n",
      "\n",
      "    accuracy                         1.0000      1382\n",
      "   macro avg     1.0000    1.0000    1.0000      1382\n",
      "weighted avg     1.0000    1.0000    1.0000      1382\n",
      "\n",
      "Classification Report of KNN on the Test set: \n",
      "\n",
      "               precision    recall  f1-score   support\n",
      "\n",
      "           0     0.9798    1.0000    0.9898       242\n",
      "           1     0.9863    0.9351    0.9600        77\n",
      "           2     1.0000    0.7692    0.8696        13\n",
      "           3     0.8750    1.0000    0.9333        14\n",
      "\n",
      "    accuracy                         0.9769       346\n",
      "   macro avg     0.9603    0.9261    0.9382       346\n",
      "weighted avg     0.9777    0.9769    0.9763       346\n",
      "\n"
     ]
    }
   ],
   "source": [
    "from sklearn.metrics import classification_report\n",
    "\n",
    "# predict the ys with xs of training set and test set\n",
    "ys_train_pred = knn_clf.predict(xs_train)\n",
    "ys_test_pred = knn_clf.predict(xs_test)\n",
    "\n",
    "# print the classfication report\n",
    "print('Classification Report of KNN on the Training set: \\n\\n',\n",
    "      classification_report(ys_train, ys_train_pred, digits=4))\n",
    "print('Classification Report of KNN on the Test set: \\n\\n',\n",
    "      classification_report(ys_test, ys_test_pred, digits=4))"
   ]
  },
  {
   "cell_type": "markdown",
   "id": "68c87c2b",
   "metadata": {},
   "source": [
    "We also plot a Confusion Matrix Heatmap by using the seaborn package in order to better present the classification results."
   ]
  },
  {
   "cell_type": "code",
   "execution_count": 11,
   "id": "c1b2ad7c",
   "metadata": {},
   "outputs": [
    {
     "data": {
      "image/png": "[encoded data removed]",
      "text/plain": [
       "<Figure size 720x720 with 1 Axes>"
      ]
     },
     "metadata": {
      "needs_background": "light"
     },
     "output_type": "display_data"
    }
   ],
   "source": [
    "import seaborn as sns\n",
    "from matplotlib import pyplot as plt\n",
    "from sklearn.metrics import confusion_matrix\n",
    "\n",
    "# construct a confusion matrix which shows the accuracy on each class\n",
    "mat = confusion_matrix(ys_test, ys_test_pred)\n",
    "\n",
    "# plot the confusion matrix into a heatmap\n",
    "plt.subplots(figsize=(10, 10))\n",
    "sns.heatmap(mat.T, square=True, annot=True, fmt='d', cbar=False,\n",
    "            xticklabels=class_dic.values(), yticklabels=class_dic.values())\n",
    "# set the x and y label of the figure\n",
    "plt.xlabel('True Label')\n",
    "plt.ylabel('Predicted Label')\n",
    "plt.show()\n"
   ]
  }
 ],
 "metadata": {
  "kernelspec": {
   "display_name": "Python 3 (ipykernel)",
   "language": "python",
   "name": "python3"
  },
  "language_info": {
   "codemirror_mode": {
    "name": "ipython",
    "version": 3
   },
   "file_extension": ".py",
   "mimetype": "text/x-python",
   "name": "python",
   "nbconvert_exporter": "python",
   "pygments_lexer": "ipython3",
   "version": "3.8.12"
  }
 },
 "nbformat": 4,
 "nbformat_minor": 5
}
