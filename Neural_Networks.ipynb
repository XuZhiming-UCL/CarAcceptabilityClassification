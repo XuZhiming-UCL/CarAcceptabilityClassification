{
  "cells": [
    {
      "cell_type": "markdown",
      "metadata": {
        "id": "hfkpTpeOg_Ea"
      },
      "source": [
        "# Application of Neural Networks\n",
        "\n",
        "We use Pytorch module to train a neural network on the training set for prediction.\n"
      ]
    },
    {
      "cell_type": "markdown",
      "metadata": {
        "id": "fbeAz0Vag_Eb"
      },
      "source": [
        "### 1. Data Loading\n",
        "\n",
        "We first load the training set and the test set (.NPY files).\n"
      ]
    },
    {
      "cell_type": "code",
      "execution_count": 1,
      "metadata": {
        "id": "eUFxsQong_Ec"
      },
      "outputs": [],
      "source": [
        "import numpy as np\n",
        "xs_test = np.load('data/xs_test.npy')\n",
        "xs_train = np.load('data/xs_train.npy')\n",
        "ys_test = np.load('data/ys_test.npy')\n",
        "ys_train = np.load('data/ys_train.npy')"
      ]
    },
    {
      "cell_type": "markdown",
      "metadata": {
        "id": "JWAbB3ozg_Ed"
      },
      "source": [
        "We will not do K-fold cross validation in this part. Instead, we split 25% data from the training set to form a fixed validation set, so that the overall ratio of training set, validation set and test set is 6:2:2."
      ]
    },
    {
      "cell_type": "code",
      "execution_count": 2,
      "metadata": {
        "colab": {
          "base_uri": "https://localhost:8080/"
        },
        "id": "tjrWmifjg_Ed",
        "outputId": "23d82314-b604-48dd-f794-958193e461a9"
      },
      "outputs": [
        {
          "name": "stdout",
          "output_type": "stream",
          "text": [
            "training set shape:\t (1036, 6)\n",
            "validation set shape: (346, 6)\n",
            "test set shape:\t (346, 6)\n"
          ]
        }
      ],
      "source": [
        "from sklearn.model_selection import train_test_split\n",
        "\n",
        "# randomize the data and perform the training-validation split (75% for training and 25% for validation)\n",
        "xs_train, xs_valid, ys_train, ys_valid = train_test_split(\n",
        "    xs_train, ys_train, test_size=0.25, random_state=66, shuffle=True, stratify=ys_train)\n",
        "\n",
        "# show the shape of training set, validation set and test set\n",
        "print('training set shape:\\t', xs_train.shape)\n",
        "print('validation set shape:', xs_valid.shape)\n",
        "print('test set shape:\\t', xs_test.shape)\n"
      ]
    },
    {
      "cell_type": "markdown",
      "metadata": {
        "id": "LlDs3U8Kg_Ee"
      },
      "source": [
        "What's more, the dictionary files (.CSV) are also loaded.\n"
      ]
    },
    {
      "cell_type": "code",
      "execution_count": 3,
      "metadata": {
        "id": "dZ9KODwIg_Ee"
      },
      "outputs": [],
      "source": [
        "import csv\n",
        "\n",
        "att_dic = {}\n",
        "class_dic = {}\n",
        "\n",
        "# read the .csv files back to the dictionaries\n",
        "with open('data/att_dic.csv', 'r') as w:\n",
        "    csvreader = csv.reader(w)\n",
        "    for row in csvreader:\n",
        "        att_dic[row[0]] = row[1]\n",
        "\n",
        "with open('data/class_dic.csv', 'r') as w:\n",
        "    csvreader = csv.reader(w)\n",
        "    for row in csvreader:\n",
        "        class_dic[row[0]] = row[1]\n"
      ]
    },
    {
      "cell_type": "markdown",
      "metadata": {
        "id": "jyo0Yl2xg_Ee"
      },
      "source": [
        "Then we convert the type of the datasets from numpy.ndarray to tensor so that it can be used in Pytorch.\n"
      ]
    },
    {
      "cell_type": "code",
      "execution_count": 4,
      "metadata": {
        "id": "3nWdCRaeg_Ee"
      },
      "outputs": [],
      "source": [
        "import torch\n",
        "# convert the type of the training set and the test set from numpy.ndarray to tensor\n",
        "tensor_xs_valid = torch.from_numpy(xs_valid).type(torch.FloatTensor)\n",
        "tensor_ys_valid = torch.from_numpy(ys_valid).type(torch.LongTensor)\n",
        "tensor_xs_train = torch.from_numpy(xs_train).type(torch.FloatTensor)\n",
        "tensor_ys_train = torch.from_numpy(ys_train).type(torch.LongTensor)"
      ]
    },
    {
      "cell_type": "markdown",
      "metadata": {
        "id": "fF-ENO4Ig_Ef"
      },
      "source": [
        "Then, the Dataloader class in PyTorch is used to automatically batch the dataset, which can boost up the training process and save memory.\n"
      ]
    },
    {
      "cell_type": "code",
      "execution_count": 5,
      "metadata": {
        "id": "BPWcOB0Gg_Ef"
      },
      "outputs": [],
      "source": [
        "from torch.utils.data import DataLoader\n",
        "from torch.utils.data import TensorDataset\n",
        "\n",
        "#  combine the xs and the ys into one dataset\n",
        "train_set = TensorDataset(tensor_xs_train, tensor_ys_train)\n",
        "valid_set = TensorDataset(tensor_xs_valid, tensor_ys_valid)\n",
        "\n",
        "# use DataLoader to generate an iterator for the training set to return examples in batch\n",
        "train_loader = DataLoader(\n",
        "    dataset=train_set, batch_size=10, shuffle=True, num_workers=2\n",
        ")\n",
        "# use DataLoader to generate an iterator for the validation set to return examples in batch (20 by 20)\n",
        "valid_loader = DataLoader(\n",
        "    dataset=valid_set, batch_size=20, shuffle=True, num_workers=2\n",
        ")"
      ]
    },
    {
      "cell_type": "markdown",
      "metadata": {
        "id": "as9dovSfg_Ef"
      },
      "source": [
        "### 2. Define the Multi-Layer Perceptron Network\n",
        "\n",
        "We then create a class called MLPerceptron() to define the components of the neural network. It has 4 attributes (input_size, hidden_layer_sizes, output_size and activation_function) so that we can adjust the structure of the network easily when doing hyper-parameter tuning. \n",
        "\n",
        "In the forward method which is used to combine all the parts of the network together, different activation functions are used to transform the summed weighted input into an output value according to the users' choices (through the parameter called activation_function)."
      ]
    },
    {
      "cell_type": "code",
      "execution_count": 7,
      "metadata": {
        "id": "-FonIAyEg_Eg"
      },
      "outputs": [],
      "source": [
        "import torch.nn as nn\n",
        "\n",
        "# a class to define the components of the neural network.\n",
        "class MLPerceptron(nn.Module):\n",
        "\n",
        "    def __init__(self, input_size, hidden_layer_sizes, output_size, activation_function):\n",
        "        super(MLPerceptron, self).__init__()\n",
        "        # a list of layers\n",
        "        self.layers = nn.ModuleList()\n",
        "        # get the size of input layer\n",
        "        next_hidden_size = input_size\n",
        "        # define the input and the hidden layers\n",
        "        for hidden_size in hidden_layer_sizes:\n",
        "            self.layers.append(nn.Linear(next_hidden_size, hidden_size))\n",
        "            next_hidden_size = hidden_size\n",
        "        # define the output layer\n",
        "        self.output = nn.Linear(next_hidden_size, output_size)\n",
        "        self.activation_function = activation_function\n",
        "\n",
        "    # a method to define the forward pass\n",
        "    def forward(self, x):\n",
        "        out = x\n",
        "        for layer in self.layers:\n",
        "            out = layer(out)\n",
        "            # the activation function which may work after each layer (except output layer)\n",
        "            # here the activation function is chosen according to self.activation_function\n",
        "            if self.activation_function == 'Sigmoid':\n",
        "                out = torch.sigmoid(out)\n",
        "            elif self.activation_function == 'ReLU':\n",
        "                out = torch.relu(out)\n",
        "            elif self.activation_function == 'Tanh':\n",
        "                out = torch.tanh(out)\n",
        "        out = self.output(out)\n",
        "        return out"
      ]
    },
    {
      "cell_type": "markdown",
      "metadata": {
        "id": "qLGF0Zozg_Eg"
      },
      "source": [
        "### 3. Define the Training Process of the Neural Network\n",
        "\n",
        "Then, we define the training process of the neural network with the functions below. Model, epochs, optimizer and loss function are all set as parameters of these functions so that they can be changed in the part of hyper-parameter tuning."
      ]
    },
    {
      "cell_type": "markdown",
      "metadata": {
        "id": "MzHe7_gAg_Eg"
      },
      "source": [
        "To calculate the loss of the model on the validation set after each epoch, a function called compute_loss_validation() is defined."
      ]
    },
    {
      "cell_type": "code",
      "execution_count": 8,
      "metadata": {
        "id": "w9DVkCMdg_Eg"
      },
      "outputs": [],
      "source": [
        "# a function used to calculate the loss on the validation set\n",
        "def compute_loss_validation(model, loss_func):\n",
        "    # a variable to record whether the code is ruuning on CPU or GPU\n",
        "    global device\n",
        "    total_loss = 0\n",
        "    batch_size = valid_loader.batch_size\n",
        "    # for each batch\n",
        "    for i, batch in enumerate(valid_loader):\n",
        "        xs, ys = batch\n",
        "        ys = ys.squeeze()\n",
        "        xs=xs.to(device)\n",
        "        ys=ys.to(device)\n",
        "        # predict ys with the batch of xs using the current model\n",
        "        pred_ys = model(xs)\n",
        "        # calculate the loss of the prediction\n",
        "        loss = loss_func(pred_ys, ys)\n",
        "        # get the value and add it to the total loss\n",
        "        total_loss += loss.item()\n",
        "        if (i+1) % batch_size == 0:\n",
        "            break\n",
        "\n",
        "    # normalize the loss based on the number of validation examples\n",
        "    loss = total_loss / len(valid_loader)\n",
        "    return loss"
      ]
    },
    {
      "cell_type": "markdown",
      "metadata": {
        "id": "DFVGg17Sg_Eh"
      },
      "source": [
        "Similarly, in order to calculate the weighted F1 score of the model on the training set and on the validation set after each epoch, we also define a function called F1_score()."
      ]
    },
    {
      "cell_type": "code",
      "execution_count": 9,
      "metadata": {
        "id": "O1qfX514g_Eh"
      },
      "outputs": [],
      "source": [
        "from sklearn.metrics import f1_score\n",
        "\n",
        "# a function used to calculate the F1 score of the model on a certain dataset\n",
        "def F1_score(model, xs, ys):\n",
        "    # a variable to record whether the code is ruuning on CPU or GPU\n",
        "    global device\n",
        "    # convert the numpy.ndarray to tensor\n",
        "    xs = torch.from_numpy(xs).type(torch.FloatTensor).to(device)\n",
        "    hat_ys = model(xs)\n",
        "    _, hat_ys = torch.max(hat_ys, 1)\n",
        "    ys_pred = hat_ys.cpu().numpy().tolist()\n",
        "    return f1_score(ys, ys_pred, average='weighted')"
      ]
    },
    {
      "cell_type": "markdown",
      "metadata": {
        "id": "u_2OKhQpg_Eh"
      },
      "source": [
        "Then, with the two functions above, we define the function used to train the model. The loss and F1 scores on the training set and validation set after each epoch are stored in 4 lists (training_loss_list, validation_loss_list, training_F1_list, validation_F1_list). To avoid overfitting, the function also records the best F1 score on the validation set and the best model (which gets the best F1 score)."
      ]
    },
    {
      "cell_type": "code",
      "execution_count": 10,
      "metadata": {
        "id": "aPBU4DHZg_Eh"
      },
      "outputs": [],
      "source": [
        "import copy\n",
        "\n",
        "# a function used to train the model with the given hyper parameters\n",
        "def train_model(model, epochs, optimizer, loss_func):\n",
        "    # a variable to record whether the code is ruuning on CPU or GPU\n",
        "    global device\n",
        "    model.to(device)\n",
        "    # set the model to training mode\n",
        "    model.train()\n",
        "    running_loss = 0\n",
        "    # two list to store the training loss and validation loss of each epoch\n",
        "    training_loss_list = []\n",
        "    validation_loss_list = []\n",
        "    # two list to store the F1 score on the training set and validation set\n",
        "    training_F1_list = []\n",
        "    validation_F1_list = []\n",
        "    # a variable used to store the best F1 score\n",
        "    best_validation_F1 = 0\n",
        "    # for each epoch\n",
        "    for epoch in range(epochs):\n",
        "        # for each batch\n",
        "        for i, batch in enumerate(train_loader):\n",
        "            xs, ys = batch\n",
        "            ys = ys.squeeze()\n",
        "            xs=xs.to(device)\n",
        "            ys=ys.to(device)\n",
        "            # reset the gradients\n",
        "            optimizer.zero_grad()\n",
        "            # predict ys with the batch of xs using the current model\n",
        "            pred_ys = model(xs)\n",
        "            # calculate the loss of the prediction\n",
        "            loss = loss_func(pred_ys, ys)\n",
        "            # backpropagation\n",
        "            loss.backward()\n",
        "            # optmize the model for one step\n",
        "            optimizer.step()\n",
        "            running_loss += loss.item()\n",
        "\n",
        "        # after each epoch, print statistics about the training\n",
        "        # training loss on the last batch\n",
        "        running_loss /= len(train_loader)\n",
        "        # keep track of the training loss\n",
        "        training_loss_list.append(running_loss)\n",
        "        # set the model to eval, we can now test the model\n",
        "        model.eval()\n",
        "        # compute the validation loss\n",
        "        validation_loss = compute_loss_validation(model, loss_func)\n",
        "        # keep track of the validation loss\n",
        "        validation_loss_list.append(validation_loss)\n",
        "\n",
        "        # set back the model to train\n",
        "        model.train()\n",
        "        print('Epoch [%d/%d], Train Loss: %.4f, Validation Loss: %.4f' %\n",
        "              (epoch+1, epochs, running_loss, validation_loss))\n",
        "        running_loss = 0\n",
        "\n",
        "        # print and store the F1 score on the training set and on the validation set for each epoch\n",
        "        validation_F1_score = F1_score(model, xs_valid, ys_valid)\n",
        "        training_F1_score = F1_score(model, xs_train, ys_train)\n",
        "        print('F1 Score (training set):', round(training_F1_score, 4),\n",
        "              'F1 Score (validation set):', round(validation_F1_score, 4))\n",
        "        training_F1_list.append(training_F1_score)\n",
        "        validation_F1_list.append(validation_F1_score)\n",
        "\n",
        "        # update the best F1 score and best_model \n",
        "        if validation_F1_score > best_validation_F1:\n",
        "            best_validation_F1 = validation_F1_score\n",
        "            best_model = copy.deepcopy(model)\n",
        "    return best_validation_F1, training_loss_list, validation_loss_list, training_F1_list, validation_F1_list, best_model\n"
      ]
    },
    {
      "cell_type": "markdown",
      "metadata": {
        "id": "9O6ThEnUg_Ei"
      },
      "source": [
        "### 4. Parameter Tuning\n",
        "\n",
        "After defining the training process of the network, to tune the hyper-parameters (such as activation function, learning rate and loss function), we try to do grid search on the model."
      ]
    },
    {
      "cell_type": "markdown",
      "metadata": {},
      "source": [
        "Since training a neural network demands massive computing resources, to speed up the process of grid search, we try to use GPU to train the models with different hyper-parameters. "
      ]
    },
    {
      "cell_type": "code",
      "execution_count": 11,
      "metadata": {
        "id": "CH-HVQJY9Dbf"
      },
      "outputs": [],
      "source": [
        "device = torch.device(\"cuda:0\" if torch.cuda.is_available() else \"cpu\")"
      ]
    },
    {
      "cell_type": "markdown",
      "metadata": {
        "id": "9yib1DBwg_Ei"
      },
      "source": [
        "Since there are infinite combinations of the number of hidden layers and the number of nodes in each layer, to simplify the design of the network, following the rule of thumb put forward by MJA Berry, we assume the number of hidden layers and the number of nodes in each layer should obey the following relationship:  \n",
        "\n",
        "$N_i=InputSize*2-(i-1)* \\lceil (InputSize*2-OutputSize)/L \\rceil (i\\in (1,2,…,L))$ \n",
        "\n",
        "In which $L$ is the number of hidden layers and $N_i$ represents the number of nodes in the $i$ th layer.\n",
        "\n",
        "To realise the relationship, we define a function called net_size()."
      ]
    },
    {
      "cell_type": "code",
      "execution_count": 12,
      "metadata": {
        "id": "d65p4XXeg_Ei"
      },
      "outputs": [],
      "source": [
        "import math\n",
        "\n",
        "# a function to form a list which stores the number of nodes in each layer according to the number of layers, input size and output size\n",
        "def net_size(num_of_layers, input_size, output_size):\n",
        "    if num_of_layers <= (input_size*2-output_size+1):\n",
        "        layers = []\n",
        "        step = math.ceil((input_size*2-output_size)/num_of_layers)\n",
        "        for i in range(num_of_layers):\n",
        "            layers.append(input_size*2-i*step)\n",
        "        return layers\n",
        "    else:\n",
        "        return 'the number of layers should not be larger than (input_size*2-output_size+1)'\n"
      ]
    },
    {
      "cell_type": "markdown",
      "metadata": {
        "id": "LfdEKvZRg_Ei"
      },
      "source": [
        "By setting the parameters of this function, we can easily get the network structure which follows the relationship above.\n",
        "\n",
        "For example, assuming the input_size is 6 and the output_size is 4, then the output of the function in different num_of_layers settings are:"
      ]
    },
    {
      "cell_type": "code",
      "execution_count": 13,
      "metadata": {
        "colab": {
          "base_uri": "https://localhost:8080/"
        },
        "id": "jDdFzMoZg_Ei",
        "outputId": "3ae9ecc7-817c-47a4-bfab-ea6491d91714"
      },
      "outputs": [
        {
          "name": "stdout",
          "output_type": "stream",
          "text": [
            "1 layer(s): [12]\n",
            "2 layer(s): [12, 8]\n",
            "3 layer(s): [12, 9, 6]\n",
            "4 layer(s): [12, 10, 8, 6]\n",
            "5 layer(s): [12, 10, 8, 6, 4]\n"
          ]
        }
      ],
      "source": [
        "for i in range(1,6):\n",
        "    print(i,\"layer(s):\", net_size(i,6,4))"
      ]
    },
    {
      "cell_type": "markdown",
      "metadata": {
        "id": "iYfnIkzOg_Ej"
      },
      "source": [
        "Since there is no existing grid search method in Pytorch, we write one by ourselves with which we can train a network with each combination of the hyper-parameters and see which one can do the best prediction on the validation set."
      ]
    },
    {
      "cell_type": "code",
      "execution_count": 13,
      "metadata": {
        "id": "jdvqMOG9g_Ej"
      },
      "outputs": [],
      "source": [
        "import itertools\n",
        "\n",
        "# a function used to find the best combination of the hyper-parameters\n",
        "\n",
        "\n",
        "def grid_search(param_grid):\n",
        "    global device\n",
        "    # transform dictionary to lists\n",
        "    value_list = list(param_grid.values())\n",
        "    # list all the possible combination of hyper parameters\n",
        "    combinations = list(itertools.product(*value_list))\n",
        "    best_F1_score = 0\n",
        "    best_combinations = 0\n",
        "    # for each combination\n",
        "    for i, combination in enumerate(combinations):\n",
        "        print(combination)\n",
        "        model = MLPerceptron(6, net_size(\n",
        "            combination[0], 6, 4), 4, combination[1])\n",
        "        # define the loss\n",
        "        if combination[2] == 'CrossEntropyLoss':\n",
        "            loss_func = nn.CrossEntropyLoss().to(device)\n",
        "        # define the optimizer\n",
        "        if combination[3] == 'SGD':\n",
        "            optimizer = torch.optim.SGD(\n",
        "                model.parameters(), lr=combination[4])\n",
        "            device = torch.device(\n",
        "                \"cuda:0\" if torch.cuda.is_available() else \"cpu\")\n",
        "        elif combination[3] == 'Adam':\n",
        "            optimizer = torch.optim.Adam(\n",
        "                model.parameters(), lr=combination[4])\n",
        "            device = torch.device(\n",
        "                \"cuda:0\" if torch.cuda.is_available() else \"cpu\")\n",
        "        elif combination[3] == 'Adagrad':\n",
        "            optimizer = torch.optim.Adagrad(\n",
        "                model.parameters(), lr=combination[4])\n",
        "            # Adagrad doesn't support CUDA computing, thus the device should be switched to CPU\n",
        "            device = 'cpu'\n",
        "        # define the number of epochs\n",
        "        epochs = combination[5]\n",
        "        F1_score, training_loss_list, validation_loss_list, training_F1_list, validation_F1_list, best_model = train_model(\n",
        "            model, epochs, optimizer, loss_func)\n",
        "        # update the best F1 score and best combinations\n",
        "        if F1_score > best_F1_score:\n",
        "            best_F1_score = F1_score\n",
        "            best_combinations = i\n",
        "    return combinations[best_combinations]\n"
      ]
    },
    {
      "cell_type": "markdown",
      "metadata": {
        "id": "7XzFdKKEg_Ej"
      },
      "source": [
        "Then, we define a dictionary called param_grid which contains the possible values of each hyper-parameter and use the grid_search() function to try each combination of the parameters and output the one which has the best prediction performance on the validation set.\n",
        "\n",
        "<b>To ensure that the models fit well, here we set the number of epochs as 150.</b>\n",
        "\n",
        "### Caution: Please do not run this code!!!!! For it takes more than 5 hours to run."
      ]
    },
    {
      "cell_type": "code",
      "execution_count": null,
      "metadata": {
        "colab": {
          "base_uri": "https://localhost:8080/"
        },
        "id": "jv_Qn7uUg_Ej",
        "outputId": "a4cbe7fd-aadd-4777-bb62-f40f33c4d1d9"
      },
      "outputs": [],
      "source": [
        "# a dictionary containing the possible values of hyper-parameters\n",
        "param_grid = {\n",
        "    'num_of_hidden_layers': range(1,5),\n",
        "    'activation_function': ['Sigmoid', 'ReLU', 'Tanh'],\n",
        "    'loss_func': ['CrossEntropyLoss'],\n",
        "    'optimizer': ['SGD', 'Adam', 'Adagrad'],\n",
        "    'lr': [0.01, 0.001, 0.0001],\n",
        "    'epochs': [150]\n",
        "}\n",
        "\n",
        "best_params=grid_search(param_grid)"
      ]
    },
    {
      "cell_type": "markdown",
      "metadata": {
        "id": "96cforiEUQsk"
      },
      "source": [
        "We can now see the best combination of the hyperparameters."
      ]
    },
    {
      "cell_type": "code",
      "execution_count": 29,
      "metadata": {
        "colab": {
          "base_uri": "https://localhost:8080/"
        },
        "id": "Mj4RLX_--Dmr",
        "outputId": "3f578d24-c858-4df9-8937-3e854b601325"
      },
      "outputs": [
        {
          "name": "stdout",
          "output_type": "stream",
          "text": [
            "Best hyper-parameters:\n",
            "Structure of the hidden layers: [12, 8]\n",
            "Activation function: Sigmoid\n",
            "Loss function: CrossEntropyLoss\n",
            "Optimizer: Adam\n",
            "Learning rate: 0.01\n"
          ]
        }
      ],
      "source": [
        "# print the best combination of the hyper-parameters\n",
        "print('Best hyper-parameters:')\n",
        "print('Structure of the hidden layers:',net_size(best_params[0],6,4))\n",
        "print('Activation function:',best_params[1])\n",
        "print('Loss function:',best_params[2])\n",
        "print('Optimizer:', best_params[3])\n",
        "print('Learning rate:',best_params[4])"
      ]
    },
    {
      "cell_type": "markdown",
      "metadata": {},
      "source": [
        "Now we can visualise the best network with hiddenlayer package."
      ]
    },
    {
      "cell_type": "code",
      "execution_count": 34,
      "metadata": {},
      "outputs": [],
      "source": [
        "# commands to install the package\n",
        "# !pip install hiddenlayer"
      ]
    },
    {
      "cell_type": "code",
      "execution_count": 14,
      "metadata": {},
      "outputs": [
        {
          "data": {
            "image/png": "[encoded data removed]",
            "text/plain": [
              "<IPython.core.display.Image object>"
            ]
          },
          "execution_count": 14,
          "metadata": {},
          "output_type": "execute_result"
        }
      ],
      "source": [
        "from IPython.display import Image\n",
        "import hiddenlayer as h\n",
        "\n",
        "model = MLPerceptron(6, [12,8], 4,'Sigmoid')\n",
        "\n",
        "# plot the best network \n",
        "vis_graph = h.build_graph(model, torch.zeros([6]))\n",
        "vis_graph.theme = h.graph.THEMES[\"blue\"].copy()\n",
        "# save the image to the image folder\n",
        "vis_graph.save(\"image/network.png\", format='png')\n",
        "\n",
        "\n",
        "# to see the structure of the tree more clearly, open the png file in the image folder\n",
        "Image(filename='image/network.png')\n"
      ]
    },
    {
      "cell_type": "markdown",
      "metadata": {},
      "source": [
        "### 5. Model Training and Evaluation"
      ]
    },
    {
      "cell_type": "markdown",
      "metadata": {},
      "source": [
        "In order to have the fixed results when training the network for times, we set a random state."
      ]
    },
    {
      "cell_type": "code",
      "execution_count": 15,
      "metadata": {},
      "outputs": [],
      "source": [
        "import random\n",
        "\n",
        "# a function to set up the random state of PyTorch\n",
        "def setup_random_state(seed):\n",
        "     torch.manual_seed(seed)\n",
        "     torch.cuda.manual_seed_all(seed)\n",
        "     np.random.seed(seed)\n",
        "     random.seed(seed)\n",
        "     torch.backends.cudnn.deterministic = True\n",
        "\n",
        "# set the random state to ensure that the results of the model are fixed\n",
        "setup_random_state(66)"
      ]
    },
    {
      "cell_type": "markdown",
      "metadata": {},
      "source": [
        "Then, with the best combination of the hyper-parameters, we train a neural network on the training set.\n",
        "\n",
        "In order to reuse the best model in the model ensemble part, we save the model to the \"models\" folder with torch.save() method."
      ]
    },
    {
      "cell_type": "code",
      "execution_count": 16,
      "metadata": {
        "colab": {
          "base_uri": "https://localhost:8080/"
        },
        "id": "8sr0FE5Jg_Ej",
        "outputId": "55d59e77-37f8-4e8c-f928-bc20b3a12d06"
      },
      "outputs": [
        {
          "name": "stdout",
          "output_type": "stream",
          "text": [
            "Epoch [1/200], Train Loss: 0.8259, Validation Loss: 0.7587\n",
            "F1 Score (training set): 0.5775 F1 Score (validation set): 0.5757\n",
            "Epoch [2/200], Train Loss: 0.6822, Validation Loss: 0.5963\n",
            "F1 Score (training set): 0.6642 F1 Score (validation set): 0.6752\n",
            "Epoch [3/200], Train Loss: 0.5377, Validation Loss: 0.4718\n",
            "F1 Score (training set): 0.7926 F1 Score (validation set): 0.8191\n",
            "Epoch [4/200], Train Loss: 0.4447, Validation Loss: 0.4024\n",
            "F1 Score (training set): 0.8138 F1 Score (validation set): 0.8307\n",
            "Epoch [5/200], Train Loss: 0.3725, Validation Loss: 0.3506\n",
            "F1 Score (training set): 0.8545 F1 Score (validation set): 0.856\n",
            "Epoch [6/200], Train Loss: 0.3314, Validation Loss: 0.2945\n",
            "F1 Score (training set): 0.8601 F1 Score (validation set): 0.8542\n",
            "Epoch [7/200], Train Loss: 0.3012, Validation Loss: 0.2917\n",
            "F1 Score (training set): 0.8447 F1 Score (validation set): 0.8428\n",
            "Epoch [8/200], Train Loss: 0.2756, Validation Loss: 0.2525\n",
            "F1 Score (training set): 0.8576 F1 Score (validation set): 0.8494\n",
            "Epoch [9/200], Train Loss: 0.2542, Validation Loss: 0.2256\n",
            "F1 Score (training set): 0.8624 F1 Score (validation set): 0.8564\n",
            "Epoch [10/200], Train Loss: 0.2445, Validation Loss: 0.2254\n",
            "F1 Score (training set): 0.8809 F1 Score (validation set): 0.8683\n",
            "Epoch [11/200], Train Loss: 0.2291, Validation Loss: 0.1977\n",
            "F1 Score (training set): 0.8933 F1 Score (validation set): 0.8879\n",
            "Epoch [12/200], Train Loss: 0.2189, Validation Loss: 0.1968\n",
            "F1 Score (training set): 0.8992 F1 Score (validation set): 0.9011\n",
            "Epoch [13/200], Train Loss: 0.2087, Validation Loss: 0.1858\n",
            "F1 Score (training set): 0.937 F1 Score (validation set): 0.9342\n",
            "Epoch [14/200], Train Loss: 0.1991, Validation Loss: 0.1829\n",
            "F1 Score (training set): 0.9166 F1 Score (validation set): 0.913\n",
            "Epoch [15/200], Train Loss: 0.1936, Validation Loss: 0.1701\n",
            "F1 Score (training set): 0.9006 F1 Score (validation set): 0.9131\n",
            "Epoch [16/200], Train Loss: 0.1969, Validation Loss: 0.1507\n",
            "F1 Score (training set): 0.9298 F1 Score (validation set): 0.9287\n",
            "Epoch [17/200], Train Loss: 0.1791, Validation Loss: 0.1663\n",
            "F1 Score (training set): 0.9208 F1 Score (validation set): 0.9205\n",
            "Epoch [18/200], Train Loss: 0.1763, Validation Loss: 0.1500\n",
            "F1 Score (training set): 0.962 F1 Score (validation set): 0.9565\n",
            "Epoch [19/200], Train Loss: 0.1860, Validation Loss: 0.1377\n",
            "F1 Score (training set): 0.932 F1 Score (validation set): 0.9447\n",
            "Epoch [20/200], Train Loss: 0.1674, Validation Loss: 0.1313\n",
            "F1 Score (training set): 0.9535 F1 Score (validation set): 0.9565\n",
            "Epoch [21/200], Train Loss: 0.1548, Validation Loss: 0.1649\n",
            "F1 Score (training set): 0.9479 F1 Score (validation set): 0.9251\n",
            "Epoch [22/200], Train Loss: 0.1574, Validation Loss: 0.1476\n",
            "F1 Score (training set): 0.9596 F1 Score (validation set): 0.9521\n",
            "Epoch [23/200], Train Loss: 0.1504, Validation Loss: 0.1238\n",
            "F1 Score (training set): 0.96 F1 Score (validation set): 0.9597\n",
            "Epoch [24/200], Train Loss: 0.1401, Validation Loss: 0.1640\n",
            "F1 Score (training set): 0.9495 F1 Score (validation set): 0.9254\n",
            "Epoch [25/200], Train Loss: 0.1413, Validation Loss: 0.1172\n",
            "F1 Score (training set): 0.9557 F1 Score (validation set): 0.9555\n",
            "Epoch [26/200], Train Loss: 0.1351, Validation Loss: 0.1435\n",
            "F1 Score (training set): 0.9599 F1 Score (validation set): 0.9441\n",
            "Epoch [27/200], Train Loss: 0.1394, Validation Loss: 0.1372\n",
            "F1 Score (training set): 0.9628 F1 Score (validation set): 0.9458\n",
            "Epoch [28/200], Train Loss: 0.1320, Validation Loss: 0.1221\n",
            "F1 Score (training set): 0.9615 F1 Score (validation set): 0.9629\n",
            "Epoch [29/200], Train Loss: 0.1227, Validation Loss: 0.1419\n",
            "F1 Score (training set): 0.9602 F1 Score (validation set): 0.9498\n",
            "Epoch [30/200], Train Loss: 0.1199, Validation Loss: 0.1058\n",
            "F1 Score (training set): 0.9632 F1 Score (validation set): 0.9656\n",
            "Epoch [31/200], Train Loss: 0.1114, Validation Loss: 0.1754\n",
            "F1 Score (training set): 0.941 F1 Score (validation set): 0.9192\n",
            "Epoch [32/200], Train Loss: 0.1196, Validation Loss: 0.1088\n",
            "F1 Score (training set): 0.9616 F1 Score (validation set): 0.957\n",
            "Epoch [33/200], Train Loss: 0.1057, Validation Loss: 0.0928\n",
            "F1 Score (training set): 0.9576 F1 Score (validation set): 0.9617\n",
            "Epoch [34/200], Train Loss: 0.1023, Validation Loss: 0.0905\n",
            "F1 Score (training set): 0.9681 F1 Score (validation set): 0.9623\n",
            "Epoch [35/200], Train Loss: 0.1026, Validation Loss: 0.0954\n",
            "F1 Score (training set): 0.9652 F1 Score (validation set): 0.9627\n",
            "Epoch [36/200], Train Loss: 0.1013, Validation Loss: 0.0904\n",
            "F1 Score (training set): 0.9653 F1 Score (validation set): 0.9628\n",
            "Epoch [37/200], Train Loss: 0.0918, Validation Loss: 0.0841\n",
            "F1 Score (training set): 0.9691 F1 Score (validation set): 0.9684\n",
            "Epoch [38/200], Train Loss: 0.0962, Validation Loss: 0.1571\n",
            "F1 Score (training set): 0.9507 F1 Score (validation set): 0.9364\n",
            "Epoch [39/200], Train Loss: 0.0957, Validation Loss: 0.0826\n",
            "F1 Score (training set): 0.9708 F1 Score (validation set): 0.9738\n",
            "Epoch [40/200], Train Loss: 0.0863, Validation Loss: 0.0882\n",
            "F1 Score (training set): 0.9673 F1 Score (validation set): 0.9656\n",
            "Epoch [41/200], Train Loss: 0.0853, Validation Loss: 0.0783\n",
            "F1 Score (training set): 0.9752 F1 Score (validation set): 0.9637\n",
            "Epoch [42/200], Train Loss: 0.0809, Validation Loss: 0.0784\n",
            "F1 Score (training set): 0.9729 F1 Score (validation set): 0.9713\n",
            "Epoch [43/200], Train Loss: 0.0871, Validation Loss: 0.0705\n",
            "F1 Score (training set): 0.9766 F1 Score (validation set): 0.9743\n",
            "Epoch [44/200], Train Loss: 0.0822, Validation Loss: 0.0716\n",
            "F1 Score (training set): 0.9728 F1 Score (validation set): 0.9715\n",
            "Epoch [45/200], Train Loss: 0.0866, Validation Loss: 0.0923\n",
            "F1 Score (training set): 0.97 F1 Score (validation set): 0.9571\n",
            "Epoch [46/200], Train Loss: 0.0805, Validation Loss: 0.1012\n",
            "F1 Score (training set): 0.969 F1 Score (validation set): 0.9625\n",
            "Epoch [47/200], Train Loss: 0.0800, Validation Loss: 0.0633\n",
            "F1 Score (training set): 0.9759 F1 Score (validation set): 0.9685\n",
            "Epoch [48/200], Train Loss: 0.0773, Validation Loss: 0.0915\n",
            "F1 Score (training set): 0.9778 F1 Score (validation set): 0.9519\n",
            "Epoch [49/200], Train Loss: 0.0819, Validation Loss: 0.0732\n",
            "F1 Score (training set): 0.9747 F1 Score (validation set): 0.9715\n",
            "Epoch [50/200], Train Loss: 0.0742, Validation Loss: 0.0731\n",
            "F1 Score (training set): 0.9747 F1 Score (validation set): 0.9741\n",
            "Epoch [51/200], Train Loss: 0.0797, Validation Loss: 0.0622\n",
            "F1 Score (training set): 0.9826 F1 Score (validation set): 0.9742\n",
            "Epoch [52/200], Train Loss: 0.0752, Validation Loss: 0.2140\n",
            "F1 Score (training set): 0.9372 F1 Score (validation set): 0.92\n",
            "Epoch [53/200], Train Loss: 0.0851, Validation Loss: 0.0696\n",
            "F1 Score (training set): 0.9766 F1 Score (validation set): 0.9745\n",
            "Epoch [54/200], Train Loss: 0.0750, Validation Loss: 0.1117\n",
            "F1 Score (training set): 0.9626 F1 Score (validation set): 0.9388\n",
            "Epoch [55/200], Train Loss: 0.0644, Validation Loss: 0.0632\n",
            "F1 Score (training set): 0.9805 F1 Score (validation set): 0.9774\n",
            "Epoch [56/200], Train Loss: 0.0634, Validation Loss: 0.0827\n",
            "F1 Score (training set): 0.977 F1 Score (validation set): 0.9663\n",
            "Epoch [57/200], Train Loss: 0.0692, Validation Loss: 0.0522\n",
            "F1 Score (training set): 0.9795 F1 Score (validation set): 0.9771\n",
            "Epoch [58/200], Train Loss: 0.0641, Validation Loss: 0.0559\n",
            "F1 Score (training set): 0.9826 F1 Score (validation set): 0.98\n",
            "Epoch [59/200], Train Loss: 0.0641, Validation Loss: 0.0606\n",
            "F1 Score (training set): 0.9826 F1 Score (validation set): 0.9772\n",
            "Epoch [60/200], Train Loss: 0.0659, Validation Loss: 0.0668\n",
            "F1 Score (training set): 0.9777 F1 Score (validation set): 0.977\n",
            "Epoch [61/200], Train Loss: 0.0618, Validation Loss: 0.0716\n",
            "F1 Score (training set): 0.9827 F1 Score (validation set): 0.966\n",
            "Epoch [62/200], Train Loss: 0.0600, Validation Loss: 0.0960\n",
            "F1 Score (training set): 0.979 F1 Score (validation set): 0.9641\n",
            "Epoch [63/200], Train Loss: 0.0682, Validation Loss: 0.0490\n",
            "F1 Score (training set): 0.9766 F1 Score (validation set): 0.9797\n",
            "Epoch [64/200], Train Loss: 0.0575, Validation Loss: 0.0801\n",
            "F1 Score (training set): 0.9837 F1 Score (validation set): 0.9719\n",
            "Epoch [65/200], Train Loss: 0.0570, Validation Loss: 0.0687\n",
            "F1 Score (training set): 0.9826 F1 Score (validation set): 0.9716\n",
            "Epoch [66/200], Train Loss: 0.0634, Validation Loss: 0.0533\n",
            "F1 Score (training set): 0.9845 F1 Score (validation set): 0.9718\n",
            "Epoch [67/200], Train Loss: 0.0580, Validation Loss: 0.0649\n",
            "F1 Score (training set): 0.9848 F1 Score (validation set): 0.9686\n",
            "Epoch [68/200], Train Loss: 0.0516, Validation Loss: 0.0883\n",
            "F1 Score (training set): 0.9838 F1 Score (validation set): 0.9606\n",
            "Epoch [69/200], Train Loss: 0.0657, Validation Loss: 0.0808\n",
            "F1 Score (training set): 0.978 F1 Score (validation set): 0.9609\n",
            "Epoch [70/200], Train Loss: 0.0566, Validation Loss: 0.0721\n",
            "F1 Score (training set): 0.9643 F1 Score (validation set): 0.9702\n",
            "Epoch [71/200], Train Loss: 0.0670, Validation Loss: 0.0533\n",
            "F1 Score (training set): 0.9825 F1 Score (validation set): 0.9824\n",
            "Epoch [72/200], Train Loss: 0.0528, Validation Loss: 0.0813\n",
            "F1 Score (training set): 0.9809 F1 Score (validation set): 0.9633\n",
            "Epoch [73/200], Train Loss: 0.0558, Validation Loss: 0.0623\n",
            "F1 Score (training set): 0.9865 F1 Score (validation set): 0.9717\n",
            "Epoch [74/200], Train Loss: 0.0543, Validation Loss: 0.0661\n",
            "F1 Score (training set): 0.9765 F1 Score (validation set): 0.9767\n",
            "Epoch [75/200], Train Loss: 0.0584, Validation Loss: 0.0454\n",
            "F1 Score (training set): 0.9786 F1 Score (validation set): 0.9855\n",
            "Epoch [76/200], Train Loss: 0.0589, Validation Loss: 0.0819\n",
            "F1 Score (training set): 0.9837 F1 Score (validation set): 0.9661\n",
            "Epoch [77/200], Train Loss: 0.0571, Validation Loss: 0.1471\n",
            "F1 Score (training set): 0.9642 F1 Score (validation set): 0.9417\n",
            "Epoch [78/200], Train Loss: 0.0599, Validation Loss: 0.1059\n",
            "F1 Score (training set): 0.9752 F1 Score (validation set): 0.9526\n",
            "Epoch [79/200], Train Loss: 0.0521, Validation Loss: 0.0459\n",
            "F1 Score (training set): 0.9884 F1 Score (validation set): 0.9776\n",
            "Epoch [80/200], Train Loss: 0.0489, Validation Loss: 0.0590\n",
            "F1 Score (training set): 0.9894 F1 Score (validation set): 0.9717\n",
            "Epoch [81/200], Train Loss: 0.0523, Validation Loss: 0.1160\n",
            "F1 Score (training set): 0.9725 F1 Score (validation set): 0.9414\n",
            "Epoch [82/200], Train Loss: 0.0463, Validation Loss: 0.0711\n",
            "F1 Score (training set): 0.9828 F1 Score (validation set): 0.9608\n",
            "Epoch [83/200], Train Loss: 0.0477, Validation Loss: 0.0529\n",
            "F1 Score (training set): 0.9913 F1 Score (validation set): 0.9802\n",
            "Epoch [84/200], Train Loss: 0.0440, Validation Loss: 0.0511\n",
            "F1 Score (training set): 0.9853 F1 Score (validation set): 0.98\n",
            "Epoch [85/200], Train Loss: 0.0443, Validation Loss: 0.0627\n",
            "F1 Score (training set): 0.9894 F1 Score (validation set): 0.9772\n",
            "Epoch [86/200], Train Loss: 0.0442, Validation Loss: 0.0633\n",
            "F1 Score (training set): 0.9894 F1 Score (validation set): 0.9719\n",
            "Epoch [87/200], Train Loss: 0.0442, Validation Loss: 0.0681\n",
            "F1 Score (training set): 0.9876 F1 Score (validation set): 0.9689\n",
            "Epoch [88/200], Train Loss: 0.0407, Validation Loss: 0.0507\n",
            "F1 Score (training set): 0.9844 F1 Score (validation set): 0.9798\n",
            "Epoch [89/200], Train Loss: 0.0380, Validation Loss: 0.0556\n",
            "F1 Score (training set): 0.9894 F1 Score (validation set): 0.9771\n",
            "Epoch [90/200], Train Loss: 0.0482, Validation Loss: 0.1226\n",
            "F1 Score (training set): 0.9781 F1 Score (validation set): 0.9471\n",
            "Epoch [91/200], Train Loss: 0.0419, Validation Loss: 0.1264\n",
            "F1 Score (training set): 0.9762 F1 Score (validation set): 0.9469\n",
            "Epoch [92/200], Train Loss: 0.0407, Validation Loss: 0.0802\n",
            "F1 Score (training set): 0.9831 F1 Score (validation set): 0.9607\n",
            "Epoch [93/200], Train Loss: 0.0633, Validation Loss: 0.0786\n",
            "F1 Score (training set): 0.9866 F1 Score (validation set): 0.9578\n",
            "Epoch [94/200], Train Loss: 0.0411, Validation Loss: 0.0437\n",
            "F1 Score (training set): 0.9923 F1 Score (validation set): 0.9857\n",
            "Epoch [95/200], Train Loss: 0.0400, Validation Loss: 0.0502\n",
            "F1 Score (training set): 0.9913 F1 Score (validation set): 0.977\n",
            "Epoch [96/200], Train Loss: 0.0533, Validation Loss: 0.0415\n",
            "F1 Score (training set): 0.9903 F1 Score (validation set): 0.9801\n",
            "Epoch [97/200], Train Loss: 0.0500, Validation Loss: 0.0495\n",
            "F1 Score (training set): 0.9816 F1 Score (validation set): 0.9773\n",
            "Epoch [98/200], Train Loss: 0.0402, Validation Loss: 0.0408\n",
            "F1 Score (training set): 0.9903 F1 Score (validation set): 0.9857\n",
            "Epoch [99/200], Train Loss: 0.0426, Validation Loss: 0.0625\n",
            "F1 Score (training set): 0.9933 F1 Score (validation set): 0.9719\n",
            "Epoch [100/200], Train Loss: 0.0359, Validation Loss: 0.0482\n",
            "F1 Score (training set): 0.9862 F1 Score (validation set): 0.9794\n",
            "Epoch [101/200], Train Loss: 0.0332, Validation Loss: 0.0442\n",
            "F1 Score (training set): 0.9913 F1 Score (validation set): 0.9796\n",
            "Epoch [102/200], Train Loss: 0.0307, Validation Loss: 0.0546\n",
            "F1 Score (training set): 0.9942 F1 Score (validation set): 0.9717\n",
            "Epoch [103/200], Train Loss: 0.0313, Validation Loss: 0.0573\n",
            "F1 Score (training set): 0.9961 F1 Score (validation set): 0.9802\n",
            "Epoch [104/200], Train Loss: 0.0307, Validation Loss: 0.0577\n",
            "F1 Score (training set): 0.9952 F1 Score (validation set): 0.9719\n",
            "Epoch [105/200], Train Loss: 0.0293, Validation Loss: 0.0694\n",
            "F1 Score (training set): 0.9924 F1 Score (validation set): 0.9693\n",
            "Epoch [106/200], Train Loss: 0.0347, Validation Loss: 0.0685\n",
            "F1 Score (training set): 0.9913 F1 Score (validation set): 0.9692\n",
            "Epoch [107/200], Train Loss: 0.0470, Validation Loss: 0.0468\n",
            "F1 Score (training set): 0.9852 F1 Score (validation set): 0.9793\n",
            "Epoch [108/200], Train Loss: 0.0370, Validation Loss: 0.0767\n",
            "F1 Score (training set): 0.9952 F1 Score (validation set): 0.9661\n",
            "Epoch [109/200], Train Loss: 0.0472, Validation Loss: 0.0674\n",
            "F1 Score (training set): 0.9903 F1 Score (validation set): 0.9748\n",
            "Epoch [110/200], Train Loss: 0.0337, Validation Loss: 0.0356\n",
            "F1 Score (training set): 0.9893 F1 Score (validation set): 0.9855\n",
            "Epoch [111/200], Train Loss: 0.0267, Validation Loss: 0.0372\n",
            "F1 Score (training set): 0.9902 F1 Score (validation set): 0.9827\n",
            "Epoch [112/200], Train Loss: 0.0290, Validation Loss: 0.0786\n",
            "F1 Score (training set): 0.9904 F1 Score (validation set): 0.9746\n",
            "Epoch [113/200], Train Loss: 0.0322, Validation Loss: 0.0356\n",
            "F1 Score (training set): 0.9873 F1 Score (validation set): 0.9913\n",
            "Epoch [114/200], Train Loss: 0.0324, Validation Loss: 0.0298\n",
            "F1 Score (training set): 0.9933 F1 Score (validation set): 0.9885\n",
            "Epoch [115/200], Train Loss: 0.0301, Validation Loss: 0.0478\n",
            "F1 Score (training set): 0.9895 F1 Score (validation set): 0.9857\n",
            "Epoch [116/200], Train Loss: 0.0346, Validation Loss: 0.0403\n",
            "F1 Score (training set): 0.9912 F1 Score (validation set): 0.9854\n",
            "Epoch [117/200], Train Loss: 0.0412, Validation Loss: 0.0383\n",
            "F1 Score (training set): 0.9903 F1 Score (validation set): 0.9859\n",
            "Epoch [118/200], Train Loss: 0.0326, Validation Loss: 0.0788\n",
            "F1 Score (training set): 0.9952 F1 Score (validation set): 0.9716\n",
            "Epoch [119/200], Train Loss: 0.0250, Validation Loss: 0.0404\n",
            "F1 Score (training set): 0.9981 F1 Score (validation set): 0.9828\n",
            "Epoch [120/200], Train Loss: 0.0258, Validation Loss: 0.0503\n",
            "F1 Score (training set): 0.9914 F1 Score (validation set): 0.9857\n",
            "Epoch [121/200], Train Loss: 0.0254, Validation Loss: 0.0357\n",
            "F1 Score (training set): 0.9912 F1 Score (validation set): 0.9795\n",
            "Epoch [122/200], Train Loss: 0.0320, Validation Loss: 0.0331\n",
            "F1 Score (training set): 0.9932 F1 Score (validation set): 0.9857\n",
            "Epoch [123/200], Train Loss: 0.0255, Validation Loss: 0.0331\n",
            "F1 Score (training set): 0.9971 F1 Score (validation set): 0.9886\n",
            "Epoch [124/200], Train Loss: 0.0186, Validation Loss: 0.0430\n",
            "F1 Score (training set): 0.9962 F1 Score (validation set): 0.9888\n",
            "Epoch [125/200], Train Loss: 0.0281, Validation Loss: 0.0353\n",
            "F1 Score (training set): 0.9962 F1 Score (validation set): 0.9888\n",
            "Epoch [126/200], Train Loss: 0.0210, Validation Loss: 0.0522\n",
            "F1 Score (training set): 0.9924 F1 Score (validation set): 0.9804\n",
            "Epoch [127/200], Train Loss: 0.0200, Validation Loss: 0.0268\n",
            "F1 Score (training set): 0.9971 F1 Score (validation set): 0.9886\n",
            "Epoch [128/200], Train Loss: 0.0243, Validation Loss: 0.0852\n",
            "F1 Score (training set): 0.9829 F1 Score (validation set): 0.9616\n",
            "Epoch [129/200], Train Loss: 0.0296, Validation Loss: 0.0408\n",
            "F1 Score (training set): 0.9913 F1 Score (validation set): 0.9826\n",
            "Epoch [130/200], Train Loss: 0.0283, Validation Loss: 0.0607\n",
            "F1 Score (training set): 0.9846 F1 Score (validation set): 0.9748\n",
            "Epoch [131/200], Train Loss: 0.0274, Validation Loss: 0.0544\n",
            "F1 Score (training set): 0.9913 F1 Score (validation set): 0.9856\n",
            "Epoch [132/200], Train Loss: 0.0252, Validation Loss: 0.0451\n",
            "F1 Score (training set): 0.9933 F1 Score (validation set): 0.9886\n",
            "Epoch [133/200], Train Loss: 0.0201, Validation Loss: 0.0265\n",
            "F1 Score (training set): 0.9981 F1 Score (validation set): 0.9884\n",
            "Epoch [134/200], Train Loss: 0.0261, Validation Loss: 0.0191\n",
            "F1 Score (training set): 0.9961 F1 Score (validation set): 0.9971\n",
            "Epoch [135/200], Train Loss: 0.0180, Validation Loss: 0.0281\n",
            "F1 Score (training set): 0.9981 F1 Score (validation set): 0.9886\n",
            "Epoch [136/200], Train Loss: 0.0232, Validation Loss: 0.0322\n",
            "F1 Score (training set): 0.9971 F1 Score (validation set): 0.9887\n",
            "Epoch [137/200], Train Loss: 0.0246, Validation Loss: 0.0393\n",
            "F1 Score (training set): 0.9971 F1 Score (validation set): 0.9859\n",
            "Epoch [138/200], Train Loss: 0.0343, Validation Loss: 0.0414\n",
            "F1 Score (training set): 0.9952 F1 Score (validation set): 0.9828\n",
            "Epoch [139/200], Train Loss: 0.0232, Validation Loss: 0.0587\n",
            "F1 Score (training set): 0.9933 F1 Score (validation set): 0.9832\n",
            "Epoch [140/200], Train Loss: 0.0177, Validation Loss: 0.0305\n",
            "F1 Score (training set): 0.9971 F1 Score (validation set): 0.9859\n",
            "Epoch [141/200], Train Loss: 0.0195, Validation Loss: 0.0543\n",
            "F1 Score (training set): 0.9853 F1 Score (validation set): 0.9765\n",
            "Epoch [142/200], Train Loss: 0.0204, Validation Loss: 0.0225\n",
            "F1 Score (training set): 0.999 F1 Score (validation set): 0.9913\n",
            "Epoch [143/200], Train Loss: 0.0144, Validation Loss: 0.0274\n",
            "F1 Score (training set): 0.9971 F1 Score (validation set): 0.9831\n",
            "Epoch [144/200], Train Loss: 0.0120, Validation Loss: 0.0375\n",
            "F1 Score (training set): 0.9981 F1 Score (validation set): 0.9859\n",
            "Epoch [145/200], Train Loss: 0.0169, Validation Loss: 0.0298\n",
            "F1 Score (training set): 0.9981 F1 Score (validation set): 0.983\n",
            "Epoch [146/200], Train Loss: 0.0266, Validation Loss: 0.1293\n",
            "F1 Score (training set): 0.9803 F1 Score (validation set): 0.9486\n",
            "Epoch [147/200], Train Loss: 0.0164, Validation Loss: 0.0343\n",
            "F1 Score (training set): 0.9981 F1 Score (validation set): 0.986\n",
            "Epoch [148/200], Train Loss: 0.0166, Validation Loss: 0.0649\n",
            "F1 Score (training set): 0.9665 F1 Score (validation set): 0.9644\n",
            "Epoch [149/200], Train Loss: 0.0173, Validation Loss: 0.0232\n",
            "F1 Score (training set): 0.9981 F1 Score (validation set): 0.9886\n",
            "Epoch [150/200], Train Loss: 0.0180, Validation Loss: 0.0498\n",
            "F1 Score (training set): 0.9962 F1 Score (validation set): 0.9803\n",
            "Epoch [151/200], Train Loss: 0.0186, Validation Loss: 0.0371\n",
            "F1 Score (training set): 0.9981 F1 Score (validation set): 0.9831\n",
            "Epoch [152/200], Train Loss: 0.0159, Validation Loss: 0.0744\n",
            "F1 Score (training set): 0.9896 F1 Score (validation set): 0.9699\n",
            "Epoch [153/200], Train Loss: 0.0260, Validation Loss: 0.0400\n",
            "F1 Score (training set): 0.9981 F1 Score (validation set): 0.9888\n",
            "Epoch [154/200], Train Loss: 0.0154, Validation Loss: 0.1022\n",
            "F1 Score (training set): 0.9705 F1 Score (validation set): 0.9596\n",
            "Epoch [155/200], Train Loss: 0.0186, Validation Loss: 0.0262\n",
            "F1 Score (training set): 0.999 F1 Score (validation set): 0.983\n",
            "Epoch [156/200], Train Loss: 0.0156, Validation Loss: 0.0513\n",
            "F1 Score (training set): 0.9942 F1 Score (validation set): 0.9831\n",
            "Epoch [157/200], Train Loss: 0.0166, Validation Loss: 0.0541\n",
            "F1 Score (training set): 0.9941 F1 Score (validation set): 0.9942\n",
            "Epoch [158/200], Train Loss: 0.0185, Validation Loss: 0.0496\n",
            "F1 Score (training set): 0.9971 F1 Score (validation set): 0.9832\n",
            "Epoch [159/200], Train Loss: 0.0185, Validation Loss: 0.0277\n",
            "F1 Score (training set): 0.9952 F1 Score (validation set): 0.9854\n",
            "Epoch [160/200], Train Loss: 0.0353, Validation Loss: 0.0375\n",
            "F1 Score (training set): 0.9971 F1 Score (validation set): 0.9914\n",
            "Epoch [161/200], Train Loss: 0.0147, Validation Loss: 0.0298\n",
            "F1 Score (training set): 0.999 F1 Score (validation set): 0.9885\n",
            "Epoch [162/200], Train Loss: 0.0118, Validation Loss: 0.0246\n",
            "F1 Score (training set): 0.9981 F1 Score (validation set): 0.9884\n",
            "Epoch [163/200], Train Loss: 0.0113, Validation Loss: 0.0264\n",
            "F1 Score (training set): 0.9981 F1 Score (validation set): 0.9885\n",
            "Epoch [164/200], Train Loss: 0.0102, Validation Loss: 0.0230\n",
            "F1 Score (training set): 0.999 F1 Score (validation set): 0.9884\n",
            "Epoch [165/200], Train Loss: 0.0103, Validation Loss: 0.0242\n",
            "F1 Score (training set): 0.999 F1 Score (validation set): 0.9884\n",
            "Epoch [166/200], Train Loss: 0.0115, Validation Loss: 0.0423\n",
            "F1 Score (training set): 0.999 F1 Score (validation set): 0.9832\n",
            "Epoch [167/200], Train Loss: 0.0107, Validation Loss: 0.0291\n",
            "F1 Score (training set): 0.9961 F1 Score (validation set): 0.9825\n",
            "Epoch [168/200], Train Loss: 0.0146, Validation Loss: 0.1285\n",
            "F1 Score (training set): 0.9828 F1 Score (validation set): 0.9493\n",
            "Epoch [169/200], Train Loss: 0.0359, Validation Loss: 0.0239\n",
            "F1 Score (training set): 0.9952 F1 Score (validation set): 0.9884\n",
            "Epoch [170/200], Train Loss: 0.0104, Validation Loss: 0.0268\n",
            "F1 Score (training set): 0.999 F1 Score (validation set): 0.9915\n",
            "Epoch [171/200], Train Loss: 0.0140, Validation Loss: 0.0177\n",
            "F1 Score (training set): 0.9981 F1 Score (validation set): 0.9944\n",
            "Epoch [172/200], Train Loss: 0.0210, Validation Loss: 0.0151\n",
            "F1 Score (training set): 0.9981 F1 Score (validation set): 0.9971\n",
            "Epoch [173/200], Train Loss: 0.0091, Validation Loss: 0.0474\n",
            "F1 Score (training set): 0.9801 F1 Score (validation set): 0.9822\n",
            "Epoch [174/200], Train Loss: 0.0165, Validation Loss: 0.0482\n",
            "F1 Score (training set): 0.9848 F1 Score (validation set): 0.9883\n",
            "Epoch [175/200], Train Loss: 0.0234, Validation Loss: 0.0371\n",
            "F1 Score (training set): 0.9962 F1 Score (validation set): 0.9808\n",
            "Epoch [176/200], Train Loss: 0.0126, Validation Loss: 0.0263\n",
            "F1 Score (training set): 1.0 F1 Score (validation set): 0.9913\n",
            "Epoch [177/200], Train Loss: 0.0105, Validation Loss: 0.0200\n",
            "F1 Score (training set): 1.0 F1 Score (validation set): 0.9942\n",
            "Epoch [178/200], Train Loss: 0.0157, Validation Loss: 0.0251\n",
            "F1 Score (training set): 0.9941 F1 Score (validation set): 0.9822\n",
            "Epoch [179/200], Train Loss: 0.0094, Validation Loss: 0.0302\n",
            "F1 Score (training set): 0.9932 F1 Score (validation set): 0.9882\n",
            "Epoch [180/200], Train Loss: 0.0188, Validation Loss: 0.0496\n",
            "F1 Score (training set): 0.9933 F1 Score (validation set): 0.986\n",
            "Epoch [181/200], Train Loss: 0.0126, Validation Loss: 0.0178\n",
            "F1 Score (training set): 0.9961 F1 Score (validation set): 0.9854\n",
            "Epoch [182/200], Train Loss: 0.0068, Validation Loss: 0.0214\n",
            "F1 Score (training set): 1.0 F1 Score (validation set): 0.9886\n",
            "Epoch [183/200], Train Loss: 0.0074, Validation Loss: 0.0207\n",
            "F1 Score (training set): 1.0 F1 Score (validation set): 0.9885\n",
            "Epoch [184/200], Train Loss: 0.0071, Validation Loss: 0.0188\n",
            "F1 Score (training set): 1.0 F1 Score (validation set): 0.9913\n",
            "Epoch [185/200], Train Loss: 0.0164, Validation Loss: 0.0391\n",
            "F1 Score (training set): 0.9981 F1 Score (validation set): 0.9829\n",
            "Epoch [186/200], Train Loss: 0.0114, Validation Loss: 0.0290\n",
            "F1 Score (training set): 0.999 F1 Score (validation set): 0.9857\n",
            "Epoch [187/200], Train Loss: 0.0074, Validation Loss: 0.0966\n",
            "F1 Score (training set): 0.9888 F1 Score (validation set): 0.9723\n",
            "Epoch [188/200], Train Loss: 0.0165, Validation Loss: 0.0266\n",
            "F1 Score (training set): 1.0 F1 Score (validation set): 0.9885\n",
            "Epoch [189/200], Train Loss: 0.0064, Validation Loss: 0.0745\n",
            "F1 Score (training set): 0.9803 F1 Score (validation set): 0.9763\n",
            "Epoch [190/200], Train Loss: 0.0139, Validation Loss: 0.1093\n",
            "F1 Score (training set): 0.9876 F1 Score (validation set): 0.9578\n",
            "Epoch [191/200], Train Loss: 0.0103, Validation Loss: 0.0631\n",
            "F1 Score (training set): 0.9981 F1 Score (validation set): 0.9858\n",
            "Epoch [192/200], Train Loss: 0.0242, Validation Loss: 0.0313\n",
            "F1 Score (training set): 0.9981 F1 Score (validation set): 0.9915\n",
            "Epoch [193/200], Train Loss: 0.0120, Validation Loss: 0.0326\n",
            "F1 Score (training set): 0.9981 F1 Score (validation set): 0.9829\n",
            "Epoch [194/200], Train Loss: 0.0061, Validation Loss: 0.0238\n",
            "F1 Score (training set): 0.999 F1 Score (validation set): 0.9858\n",
            "Epoch [195/200], Train Loss: 0.0044, Validation Loss: 0.0276\n",
            "F1 Score (training set): 1.0 F1 Score (validation set): 0.9886\n",
            "Epoch [196/200], Train Loss: 0.0075, Validation Loss: 0.0333\n",
            "F1 Score (training set): 0.999 F1 Score (validation set): 0.9886\n",
            "Epoch [197/200], Train Loss: 0.0054, Validation Loss: 0.0173\n",
            "F1 Score (training set): 0.999 F1 Score (validation set): 0.9915\n",
            "Epoch [198/200], Train Loss: 0.0092, Validation Loss: 0.0286\n",
            "F1 Score (training set): 0.999 F1 Score (validation set): 0.9884\n",
            "Epoch [199/200], Train Loss: 0.0120, Validation Loss: 0.0396\n",
            "F1 Score (training set): 0.9942 F1 Score (validation set): 0.9888\n",
            "Epoch [200/200], Train Loss: 0.0063, Validation Loss: 0.0211\n",
            "F1 Score (training set): 1.0 F1 Score (validation set): 0.9885\n"
          ]
        },
        {
          "name": "stderr",
          "output_type": "stream",
          "text": [
            "/Users/guojingwei/opt/anaconda3/envs/MachineLearning/lib/python3.8/site-packages/torch/serialization.py:359: UserWarning: Couldn't retrieve source code for container of type MLPerceptron. It won't be checked for correctness upon loading.\n",
            "  warnings.warn(\"Couldn't retrieve source code for container of \"\n"
          ]
        }
      ],
      "source": [
        "# use the best combination of the hyper-parameters to train a network\n",
        "model = MLPerceptron(6, [12,8], 4,'Sigmoid')\n",
        "loss_func = nn.CrossEntropyLoss().to(device)\n",
        "optimizer = torch.optim.Adam(model.parameters(), lr=0.01)\n",
        "epochs = 200\n",
        "best_validation_F1, training_loss_list, validation_loss_list, training_F1_list, validation_F1_list, best_model = train_model(model,epochs,optimizer,loss_func)\n",
        "# save the model\n",
        "torch.save(best_model,'models/Neural_Network.pth')"
      ]
    },
    {
      "cell_type": "markdown",
      "metadata": {},
      "source": [
        "To visualize the training process of the network, we plot the curves of the loss on the training set and on the validation set.\n",
        "\n",
        "According to the figure, we can see that both of the two curves have levelled off after  200 epochs of training, which shows that the model has fitted well."
      ]
    },
    {
      "cell_type": "code",
      "execution_count": 17,
      "metadata": {
        "colab": {
          "base_uri": "https://localhost:8080/",
          "height": 279
        },
        "id": "6h6J1STcg_Ek",
        "outputId": "c62b8090-9a98-4c50-ec35-bbb5230f6a54"
      },
      "outputs": [
        {
          "data": {
            "image/png": "[encoded data removed]",
            "text/plain": [
              "<Figure size 432x288 with 1 Axes>"
            ]
          },
          "metadata": {
            "needs_background": "light"
          },
          "output_type": "display_data"
        }
      ],
      "source": [
        "import matplotlib.pyplot as plt\n",
        "\n",
        "# plot the curves of training loss and validation loss\n",
        "plt.plot(training_loss_list, label=\"training loss\")\n",
        "plt.plot(validation_loss_list, label=\"validation loss\")\n",
        "# plot the legend\n",
        "plt.legend(loc='upper right')\n",
        "\n",
        "# set the x and y labels\n",
        "plt.ylabel('loss')\n",
        "plt.xlabel('epochs')\n",
        "plt.show()"
      ]
    },
    {
      "cell_type": "markdown",
      "metadata": {},
      "source": [
        "Similarly, we also plot the weighted F1 score on the training set and on the validation set as the model trains."
      ]
    },
    {
      "cell_type": "code",
      "execution_count": 18,
      "metadata": {
        "colab": {
          "base_uri": "https://localhost:8080/",
          "height": 279
        },
        "id": "sO3aLFkEg_Ek",
        "outputId": "0e56ef83-376d-49d6-d2f5-f91c7de313a6"
      },
      "outputs": [
        {
          "data": {
            "image/png": "[encoded data removed]",
            "text/plain": [
              "<Figure size 432x288 with 1 Axes>"
            ]
          },
          "metadata": {
            "needs_background": "light"
          },
          "output_type": "display_data"
        }
      ],
      "source": [
        "# plot the weighted F1 score on the training set and on the validation set\n",
        "plt.plot(training_F1_list, label=\"F1 score on training set\")\n",
        "plt.plot(validation_F1_list, label=\"F1 score on validation set\")\n",
        "# plot the legend\n",
        "plt.legend(loc='upper right')\n",
        "\n",
        "# set the x and y labels\n",
        "plt.ylabel('weighted F1 score')\n",
        "plt.xlabel('epochs')\n",
        "plt.show()"
      ]
    },
    {
      "cell_type": "markdown",
      "metadata": {},
      "source": [
        "Finally, we check the prediction performance of the best model (i.e., the one which gets the highest weighted F1 score in the training process) on the test set."
      ]
    },
    {
      "cell_type": "code",
      "execution_count": 19,
      "metadata": {
        "colab": {
          "base_uri": "https://localhost:8080/"
        },
        "id": "ddTnW9Xqg_Ek",
        "outputId": "1f90cc67-ded0-4422-9e1e-95c8a532af99"
      },
      "outputs": [
        {
          "name": "stdout",
          "output_type": "stream",
          "text": [
            "Classification Report of the Neural Network on the Test set: \n",
            "\n",
            "               precision    recall  f1-score   support\n",
            "\n",
            "           0     0.9837    1.0000    0.9918       242\n",
            "           1     0.9733    0.9481    0.9605        77\n",
            "           2     1.0000    0.8462    0.9167        13\n",
            "           3     0.9286    0.9286    0.9286        14\n",
            "\n",
            "    accuracy                         0.9798       346\n",
            "   macro avg     0.9714    0.9307    0.9494       346\n",
            "weighted avg     0.9798    0.9798    0.9795       346\n",
            "\n"
          ]
        }
      ],
      "source": [
        "from sklearn.metrics import classification_report\n",
        "from sklearn.metrics import confusion_matrix\n",
        "\n",
        "# a function used to predict on a dataset with a certain model \n",
        "def ouput_classification_report_and_confusion_matrix(xs,ys,model):\n",
        "      xs = torch.from_numpy(xs).type(torch.FloatTensor)\n",
        "      hat_ys = model(xs)\n",
        "      _, hat_ys = torch.max(hat_ys, 1)\n",
        "      ys_pred = hat_ys.numpy().tolist()\n",
        "      class_report=classification_report(ys, ys_pred, digits=4)\n",
        "      confusion_mat=confusion_matrix(ys,ys_pred)\n",
        "      return class_report, confusion_mat\n",
        "\n",
        "# print the classfication report\n",
        "print('Classification Report of the Neural Network on the Test set: \\n\\n',\n",
        "      ouput_classification_report_and_confusion_matrix(xs_test, ys_test, best_model)[0])\n"
      ]
    },
    {
      "cell_type": "markdown",
      "metadata": {},
      "source": [
        "We also plot a confusion matrix with confusion_matrix() method in sklearn package and the heatmap() method in seaborn package to evaluate the classification performance of the model on each class."
      ]
    },
    {
      "cell_type": "code",
      "execution_count": 20,
      "metadata": {},
      "outputs": [
        {
          "data": {
            "image/png": "[encoded data removed]",
            "text/plain": [
              "<Figure size 720x720 with 1 Axes>"
            ]
          },
          "metadata": {
            "needs_background": "light"
          },
          "output_type": "display_data"
        }
      ],
      "source": [
        "import seaborn as sns\n",
        "\n",
        "# construct a confusion matrix which shows the accuracy on each class \n",
        "confusion_mat = ouput_classification_report_and_confusion_matrix(xs_test, ys_test, best_model)[1]\n",
        "\n",
        "# plot the confusion matrix into a heatmap\n",
        "plt.subplots(figsize=(10, 10))\n",
        "sns.heatmap(confusion_mat.T, square=True, annot=True, fmt='d',cbar=False,xticklabels=class_dic.values(),yticklabels=class_dic.values())\n",
        "# set the x and y label of the figure\n",
        "plt.xlabel('True Label')\n",
        "plt.ylabel('Predicted Label')\n",
        "plt.show()\n"
      ]
    }
  ],
  "metadata": {
    "accelerator": "GPU",
    "colab": {
      "name": "Neural Networks.ipynb",
      "provenance": []
    },
    "interpreter": {
      "hash": "2170c3643c18163fd448247d884e83f2cbff238ded6f73c792eee34c9a835a49"
    },
    "kernelspec": {
      "display_name": "Python [conda env:MachineLearning]",
      "language": "python",
      "name": "python3"
    },
    "language_info": {
      "codemirror_mode": {
        "name": "ipython",
        "version": 3
      },
      "file_extension": ".py",
      "mimetype": "text/x-python",
      "name": "python",
      "nbconvert_exporter": "python",
      "pygments_lexer": "ipython3",
      "version": "3.8.12"
    }
  },
  "nbformat": 4,
  "nbformat_minor": 0
}
