{
 "cells": [
  {
   "cell_type": "markdown",
   "metadata": {},
   "source": [
    "# Instance Based Learning (Support Vector Machine Classifier)\n",
    "\n",
    "In this notebook, we will use the scikit-learn package to implement a SVM model for car acceptability classification."
   ]
  },
  {
   "cell_type": "markdown",
   "metadata": {},
   "source": [
    "### 1. Data Loading and Try the Model without Parameter Tuning\n",
    "\n",
    "We first load the training set and the test set (.NPY files)."
   ]
  },
  {
   "cell_type": "code",
   "execution_count": 1,
   "metadata": {},
   "outputs": [],
   "source": [
    "import numpy as np\n",
    "\n",
    "# Load the Data\n",
    "xs_test = np.load('data/xs_test.npy')\n",
    "xs_train = np.load('data/xs_train.npy')\n",
    "ys_test = np.load('data/ys_test.npy')\n",
    "ys_train = np.load('data/ys_train.npy')\n"
   ]
  },
  {
   "cell_type": "markdown",
   "metadata": {},
   "source": [
    "What's more, the dictionary files (.CSV) are also loaded."
   ]
  },
  {
   "cell_type": "code",
   "execution_count": 2,
   "metadata": {},
   "outputs": [],
   "source": [
    "import csv\n",
    "\n",
    "att_dic = {}\n",
    "class_dic = {}\n",
    "\n",
    "# read the .csv files back to the dictionaries\n",
    "with open('data/att_dic.csv', 'r') as w:\n",
    "    csvreader = csv.reader(w)\n",
    "    for row in csvreader:\n",
    "        att_dic[row[0]] = row[1]\n",
    "\n",
    "with open('data/class_dic.csv', 'r') as w:\n",
    "    csvreader = csv.reader(w)\n",
    "    for row in csvreader:\n",
    "        class_dic[row[0]] = row[1]\n"
   ]
  },
  {
   "cell_type": "markdown",
   "metadata": {},
   "source": [
    "Once the data is loaded, we try to use the SVC() model of sklearn package to define and train a support vector machine model with no paramater tuning so that we can compare its prediction performance with that after paramater tuning."
   ]
  },
  {
   "cell_type": "code",
   "execution_count": 3,
   "metadata": {},
   "outputs": [
    {
     "data": {
      "text/plain": [
       "SVC()"
      ]
     },
     "execution_count": 3,
     "metadata": {},
     "output_type": "execute_result"
    }
   ],
   "source": [
    "from sklearn.svm import SVC\n",
    "\n",
    "# Call the SVC class of sklearn package\n",
    "svm_clf_no_tuning = SVC()\n",
    "\n",
    "# train the untuned model using our training data\n",
    "svm_clf_no_tuning.fit(xs_train, np.ravel(ys_train))"
   ]
  },
  {
   "cell_type": "markdown",
   "metadata": {},
   "source": [
    "### 2. Parameter Tuning\n",
    "\n",
    "To tune our hyperparameters, we use GridSearchCV() method which iterates through each given parameter to assess the weighted F1 score of the given training data. For each combination of the given parameters, the search also validates using 5-fold cross validation.\n",
    "\n",
    "There are a large number of parameters of the SVC() model, here we focus on the following 3 of them:\n",
    "\n",
    "- <b>C:</b> A parameter that controls the error in which the decision boundary can be made. A low c will lead to low error and a high c will lead to high. \n",
    "\n",
    "- <b>kernal:</b> A parameter controlling the kernel type to be used in the model. It can be set as <b>'linear'</b> (find the optimal decision boundary in a 2D environment) or <b>'rbf'</b> (find the optimal decision boundary in 3D space).\n",
    "\n",
    "- <b>gamma:</b> A specific parameter for the 'rbf' kernel which controls the curvature of the decision boundary in 3D space. A higher Gamma can lead to overfitting and poor test results.\n"
   ]
  },
  {
   "cell_type": "code",
   "execution_count": 4,
   "metadata": {},
   "outputs": [
    {
     "name": "stdout",
     "output_type": "stream",
     "text": [
      "Fitting 5 folds for each of 60 candidates, totalling 300 fits\n",
      "[CV] END .........................C=0.1, gamma=1, kernel=rbf; total time=   0.1s\n",
      "[CV] END .........................C=0.1, gamma=1, kernel=rbf; total time=   0.1s\n",
      "[CV] END .........................C=0.1, gamma=1, kernel=rbf; total time=   0.1s\n",
      "[CV] END .........................C=0.1, gamma=1, kernel=rbf; total time=   0.1s\n",
      "[CV] END .........................C=0.1, gamma=1, kernel=rbf; total time=   0.1s\n",
      "[CV] END ......................C=0.1, gamma=1, kernel=linear; total time=   0.0s\n",
      "[CV] END ......................C=0.1, gamma=1, kernel=linear; total time=   0.0s\n",
      "[CV] END ......................C=0.1, gamma=1, kernel=linear; total time=   0.0s\n",
      "[CV] END ......................C=0.1, gamma=1, kernel=linear; total time=   0.0s\n",
      "[CV] END ......................C=0.1, gamma=1, kernel=linear; total time=   0.0s\n",
      "[CV] END .......................C=0.1, gamma=0.1, kernel=rbf; total time=   0.0s\n",
      "[CV] END .......................C=0.1, gamma=0.1, kernel=rbf; total time=   0.0s\n",
      "[CV] END .......................C=0.1, gamma=0.1, kernel=rbf; total time=   0.0s\n",
      "[CV] END .......................C=0.1, gamma=0.1, kernel=rbf; total time=   0.0s\n",
      "[CV] END .......................C=0.1, gamma=0.1, kernel=rbf; total time=   0.0s\n",
      "[CV] END ....................C=0.1, gamma=0.1, kernel=linear; total time=   0.0s\n",
      "[CV] END ....................C=0.1, gamma=0.1, kernel=linear; total time=   0.0s\n",
      "[CV] END ....................C=0.1, gamma=0.1, kernel=linear; total time=   0.0s\n",
      "[CV] END ....................C=0.1, gamma=0.1, kernel=linear; total time=   0.0s\n",
      "[CV] END ....................C=0.1, gamma=0.1, kernel=linear; total time=   0.0s\n",
      "[CV] END ......................C=0.1, gamma=0.01, kernel=rbf; total time=   0.0s\n",
      "[CV] END ......................C=0.1, gamma=0.01, kernel=rbf; total time=   0.0s\n",
      "[CV] END ......................C=0.1, gamma=0.01, kernel=rbf; total time=   0.0s\n",
      "[CV] END ......................C=0.1, gamma=0.01, kernel=rbf; total time=   0.0s\n",
      "[CV] END ......................C=0.1, gamma=0.01, kernel=rbf; total time=   0.0s\n",
      "[CV] END ...................C=0.1, gamma=0.01, kernel=linear; total time=   0.0s\n",
      "[CV] END ...................C=0.1, gamma=0.01, kernel=linear; total time=   0.0s\n",
      "[CV] END ...................C=0.1, gamma=0.01, kernel=linear; total time=   0.0s\n",
      "[CV] END ...................C=0.1, gamma=0.01, kernel=linear; total time=   0.0s\n",
      "[CV] END ...................C=0.1, gamma=0.01, kernel=linear; total time=   0.0s\n",
      "[CV] END .....................C=0.1, gamma=0.001, kernel=rbf; total time=   0.0s\n",
      "[CV] END .....................C=0.1, gamma=0.001, kernel=rbf; total time=   0.0s\n",
      "[CV] END .....................C=0.1, gamma=0.001, kernel=rbf; total time=   0.0s\n",
      "[CV] END .....................C=0.1, gamma=0.001, kernel=rbf; total time=   0.0s\n",
      "[CV] END .....................C=0.1, gamma=0.001, kernel=rbf; total time=   0.0s\n",
      "[CV] END ..................C=0.1, gamma=0.001, kernel=linear; total time=   0.0s\n",
      "[CV] END ..................C=0.1, gamma=0.001, kernel=linear; total time=   0.0s\n",
      "[CV] END ..................C=0.1, gamma=0.001, kernel=linear; total time=   0.0s\n",
      "[CV] END ..................C=0.1, gamma=0.001, kernel=linear; total time=   0.0s\n",
      "[CV] END ..................C=0.1, gamma=0.001, kernel=linear; total time=   0.0s\n",
      "[CV] END ....................C=0.1, gamma=0.0001, kernel=rbf; total time=   0.0s\n",
      "[CV] END ....................C=0.1, gamma=0.0001, kernel=rbf; total time=   0.0s\n",
      "[CV] END ....................C=0.1, gamma=0.0001, kernel=rbf; total time=   0.0s\n",
      "[CV] END ....................C=0.1, gamma=0.0001, kernel=rbf; total time=   0.0s\n",
      "[CV] END ....................C=0.1, gamma=0.0001, kernel=rbf; total time=   0.0s\n",
      "[CV] END .................C=0.1, gamma=0.0001, kernel=linear; total time=   0.0s\n",
      "[CV] END .................C=0.1, gamma=0.0001, kernel=linear; total time=   0.0s\n",
      "[CV] END .................C=0.1, gamma=0.0001, kernel=linear; total time=   0.0s\n",
      "[CV] END .................C=0.1, gamma=0.0001, kernel=linear; total time=   0.0s\n",
      "[CV] END .................C=0.1, gamma=0.0001, kernel=linear; total time=   0.0s\n",
      "[CV] END ...........................C=1, gamma=1, kernel=rbf; total time=   0.1s\n",
      "[CV] END ...........................C=1, gamma=1, kernel=rbf; total time=   0.1s\n",
      "[CV] END ...........................C=1, gamma=1, kernel=rbf; total time=   0.1s\n",
      "[CV] END ...........................C=1, gamma=1, kernel=rbf; total time=   0.1s\n",
      "[CV] END ...........................C=1, gamma=1, kernel=rbf; total time=   0.1s\n",
      "[CV] END ........................C=1, gamma=1, kernel=linear; total time=   0.0s\n",
      "[CV] END ........................C=1, gamma=1, kernel=linear; total time=   0.0s\n",
      "[CV] END ........................C=1, gamma=1, kernel=linear; total time=   0.0s\n",
      "[CV] END ........................C=1, gamma=1, kernel=linear; total time=   0.0s\n",
      "[CV] END ........................C=1, gamma=1, kernel=linear; total time=   0.0s\n",
      "[CV] END .........................C=1, gamma=0.1, kernel=rbf; total time=   0.0s\n",
      "[CV] END .........................C=1, gamma=0.1, kernel=rbf; total time=   0.0s\n",
      "[CV] END .........................C=1, gamma=0.1, kernel=rbf; total time=   0.0s\n",
      "[CV] END .........................C=1, gamma=0.1, kernel=rbf; total time=   0.0s\n",
      "[CV] END .........................C=1, gamma=0.1, kernel=rbf; total time=   0.0s\n",
      "[CV] END ......................C=1, gamma=0.1, kernel=linear; total time=   0.0s\n",
      "[CV] END ......................C=1, gamma=0.1, kernel=linear; total time=   0.0s\n",
      "[CV] END ......................C=1, gamma=0.1, kernel=linear; total time=   0.0s\n",
      "[CV] END ......................C=1, gamma=0.1, kernel=linear; total time=   0.0s\n",
      "[CV] END ......................C=1, gamma=0.1, kernel=linear; total time=   0.0s\n",
      "[CV] END ........................C=1, gamma=0.01, kernel=rbf; total time=   0.0s\n",
      "[CV] END ........................C=1, gamma=0.01, kernel=rbf; total time=   0.0s\n",
      "[CV] END ........................C=1, gamma=0.01, kernel=rbf; total time=   0.0s\n",
      "[CV] END ........................C=1, gamma=0.01, kernel=rbf; total time=   0.0s\n",
      "[CV] END ........................C=1, gamma=0.01, kernel=rbf; total time=   0.0s\n",
      "[CV] END .....................C=1, gamma=0.01, kernel=linear; total time=   0.0s\n",
      "[CV] END .....................C=1, gamma=0.01, kernel=linear; total time=   0.0s\n",
      "[CV] END .....................C=1, gamma=0.01, kernel=linear; total time=   0.0s\n",
      "[CV] END .....................C=1, gamma=0.01, kernel=linear; total time=   0.0s\n",
      "[CV] END .....................C=1, gamma=0.01, kernel=linear; total time=   0.0s\n",
      "[CV] END .......................C=1, gamma=0.001, kernel=rbf; total time=   0.0s\n",
      "[CV] END .......................C=1, gamma=0.001, kernel=rbf; total time=   0.0s\n",
      "[CV] END .......................C=1, gamma=0.001, kernel=rbf; total time=   0.0s\n",
      "[CV] END .......................C=1, gamma=0.001, kernel=rbf; total time=   0.0s\n",
      "[CV] END .......................C=1, gamma=0.001, kernel=rbf; total time=   0.0s\n",
      "[CV] END ....................C=1, gamma=0.001, kernel=linear; total time=   0.0s\n",
      "[CV] END ....................C=1, gamma=0.001, kernel=linear; total time=   0.0s\n",
      "[CV] END ....................C=1, gamma=0.001, kernel=linear; total time=   0.0s\n",
      "[CV] END ....................C=1, gamma=0.001, kernel=linear; total time=   0.0s\n",
      "[CV] END ....................C=1, gamma=0.001, kernel=linear; total time=   0.0s\n",
      "[CV] END ......................C=1, gamma=0.0001, kernel=rbf; total time=   0.0s\n",
      "[CV] END ......................C=1, gamma=0.0001, kernel=rbf; total time=   0.0s\n",
      "[CV] END ......................C=1, gamma=0.0001, kernel=rbf; total time=   0.0s\n",
      "[CV] END ......................C=1, gamma=0.0001, kernel=rbf; total time=   0.0s\n",
      "[CV] END ......................C=1, gamma=0.0001, kernel=rbf; total time=   0.0s\n",
      "[CV] END ...................C=1, gamma=0.0001, kernel=linear; total time=   0.0s\n",
      "[CV] END ...................C=1, gamma=0.0001, kernel=linear; total time=   0.0s\n",
      "[CV] END ...................C=1, gamma=0.0001, kernel=linear; total time=   0.0s\n",
      "[CV] END ...................C=1, gamma=0.0001, kernel=linear; total time=   0.0s\n",
      "[CV] END ...................C=1, gamma=0.0001, kernel=linear; total time=   0.0s\n",
      "[CV] END ..........................C=10, gamma=1, kernel=rbf; total time=   0.1s\n",
      "[CV] END ..........................C=10, gamma=1, kernel=rbf; total time=   0.1s\n",
      "[CV] END ..........................C=10, gamma=1, kernel=rbf; total time=   0.1s\n",
      "[CV] END ..........................C=10, gamma=1, kernel=rbf; total time=   0.1s\n",
      "[CV] END ..........................C=10, gamma=1, kernel=rbf; total time=   0.1s\n",
      "[CV] END .......................C=10, gamma=1, kernel=linear; total time=   0.0s\n",
      "[CV] END .......................C=10, gamma=1, kernel=linear; total time=   0.0s\n",
      "[CV] END .......................C=10, gamma=1, kernel=linear; total time=   0.0s\n",
      "[CV] END .......................C=10, gamma=1, kernel=linear; total time=   0.0s\n",
      "[CV] END .......................C=10, gamma=1, kernel=linear; total time=   0.0s\n",
      "[CV] END ........................C=10, gamma=0.1, kernel=rbf; total time=   0.0s\n",
      "[CV] END ........................C=10, gamma=0.1, kernel=rbf; total time=   0.0s\n",
      "[CV] END ........................C=10, gamma=0.1, kernel=rbf; total time=   0.0s\n",
      "[CV] END ........................C=10, gamma=0.1, kernel=rbf; total time=   0.0s\n",
      "[CV] END ........................C=10, gamma=0.1, kernel=rbf; total time=   0.0s\n",
      "[CV] END .....................C=10, gamma=0.1, kernel=linear; total time=   0.0s\n",
      "[CV] END .....................C=10, gamma=0.1, kernel=linear; total time=   0.0s\n",
      "[CV] END .....................C=10, gamma=0.1, kernel=linear; total time=   0.0s\n",
      "[CV] END .....................C=10, gamma=0.1, kernel=linear; total time=   0.0s\n",
      "[CV] END .....................C=10, gamma=0.1, kernel=linear; total time=   0.0s\n",
      "[CV] END .......................C=10, gamma=0.01, kernel=rbf; total time=   0.0s\n",
      "[CV] END .......................C=10, gamma=0.01, kernel=rbf; total time=   0.0s\n",
      "[CV] END .......................C=10, gamma=0.01, kernel=rbf; total time=   0.0s\n",
      "[CV] END .......................C=10, gamma=0.01, kernel=rbf; total time=   0.0s\n",
      "[CV] END .......................C=10, gamma=0.01, kernel=rbf; total time=   0.0s\n",
      "[CV] END ....................C=10, gamma=0.01, kernel=linear; total time=   0.0s\n",
      "[CV] END ....................C=10, gamma=0.01, kernel=linear; total time=   0.0s\n",
      "[CV] END ....................C=10, gamma=0.01, kernel=linear; total time=   0.0s\n",
      "[CV] END ....................C=10, gamma=0.01, kernel=linear; total time=   0.0s\n",
      "[CV] END ....................C=10, gamma=0.01, kernel=linear; total time=   0.0s\n",
      "[CV] END ......................C=10, gamma=0.001, kernel=rbf; total time=   0.0s\n",
      "[CV] END ......................C=10, gamma=0.001, kernel=rbf; total time=   0.0s\n",
      "[CV] END ......................C=10, gamma=0.001, kernel=rbf; total time=   0.0s\n",
      "[CV] END ......................C=10, gamma=0.001, kernel=rbf; total time=   0.0s\n",
      "[CV] END ......................C=10, gamma=0.001, kernel=rbf; total time=   0.0s\n",
      "[CV] END ...................C=10, gamma=0.001, kernel=linear; total time=   0.0s\n",
      "[CV] END ...................C=10, gamma=0.001, kernel=linear; total time=   0.0s\n",
      "[CV] END ...................C=10, gamma=0.001, kernel=linear; total time=   0.0s\n",
      "[CV] END ...................C=10, gamma=0.001, kernel=linear; total time=   0.0s\n",
      "[CV] END ...................C=10, gamma=0.001, kernel=linear; total time=   0.0s\n",
      "[CV] END .....................C=10, gamma=0.0001, kernel=rbf; total time=   0.0s\n",
      "[CV] END .....................C=10, gamma=0.0001, kernel=rbf; total time=   0.0s\n",
      "[CV] END .....................C=10, gamma=0.0001, kernel=rbf; total time=   0.0s\n",
      "[CV] END .....................C=10, gamma=0.0001, kernel=rbf; total time=   0.0s\n",
      "[CV] END .....................C=10, gamma=0.0001, kernel=rbf; total time=   0.0s\n",
      "[CV] END ..................C=10, gamma=0.0001, kernel=linear; total time=   0.0s\n",
      "[CV] END ..................C=10, gamma=0.0001, kernel=linear; total time=   0.0s\n",
      "[CV] END ..................C=10, gamma=0.0001, kernel=linear; total time=   0.0s\n",
      "[CV] END ..................C=10, gamma=0.0001, kernel=linear; total time=   0.0s\n",
      "[CV] END ..................C=10, gamma=0.0001, kernel=linear; total time=   0.0s\n",
      "[CV] END .........................C=100, gamma=1, kernel=rbf; total time=   0.1s\n",
      "[CV] END .........................C=100, gamma=1, kernel=rbf; total time=   0.1s\n",
      "[CV] END .........................C=100, gamma=1, kernel=rbf; total time=   0.1s\n",
      "[CV] END .........................C=100, gamma=1, kernel=rbf; total time=   0.1s\n",
      "[CV] END .........................C=100, gamma=1, kernel=rbf; total time=   0.1s\n",
      "[CV] END ......................C=100, gamma=1, kernel=linear; total time=   0.1s\n",
      "[CV] END ......................C=100, gamma=1, kernel=linear; total time=   0.2s\n",
      "[CV] END ......................C=100, gamma=1, kernel=linear; total time=   0.1s\n",
      "[CV] END ......................C=100, gamma=1, kernel=linear; total time=   0.1s\n",
      "[CV] END ......................C=100, gamma=1, kernel=linear; total time=   0.1s\n",
      "[CV] END .......................C=100, gamma=0.1, kernel=rbf; total time=   0.0s\n",
      "[CV] END .......................C=100, gamma=0.1, kernel=rbf; total time=   0.0s\n",
      "[CV] END .......................C=100, gamma=0.1, kernel=rbf; total time=   0.0s\n",
      "[CV] END .......................C=100, gamma=0.1, kernel=rbf; total time=   0.0s\n",
      "[CV] END .......................C=100, gamma=0.1, kernel=rbf; total time=   0.0s\n",
      "[CV] END ....................C=100, gamma=0.1, kernel=linear; total time=   0.1s\n",
      "[CV] END ....................C=100, gamma=0.1, kernel=linear; total time=   0.1s\n",
      "[CV] END ....................C=100, gamma=0.1, kernel=linear; total time=   0.1s\n",
      "[CV] END ....................C=100, gamma=0.1, kernel=linear; total time=   0.2s\n",
      "[CV] END ....................C=100, gamma=0.1, kernel=linear; total time=   0.1s\n",
      "[CV] END ......................C=100, gamma=0.01, kernel=rbf; total time=   0.0s\n",
      "[CV] END ......................C=100, gamma=0.01, kernel=rbf; total time=   0.0s\n",
      "[CV] END ......................C=100, gamma=0.01, kernel=rbf; total time=   0.0s\n",
      "[CV] END ......................C=100, gamma=0.01, kernel=rbf; total time=   0.0s\n",
      "[CV] END ......................C=100, gamma=0.01, kernel=rbf; total time=   0.0s\n",
      "[CV] END ...................C=100, gamma=0.01, kernel=linear; total time=   0.1s\n",
      "[CV] END ...................C=100, gamma=0.01, kernel=linear; total time=   0.1s\n",
      "[CV] END ...................C=100, gamma=0.01, kernel=linear; total time=   0.1s\n",
      "[CV] END ...................C=100, gamma=0.01, kernel=linear; total time=   0.1s\n",
      "[CV] END ...................C=100, gamma=0.01, kernel=linear; total time=   0.1s\n",
      "[CV] END .....................C=100, gamma=0.001, kernel=rbf; total time=   0.0s\n",
      "[CV] END .....................C=100, gamma=0.001, kernel=rbf; total time=   0.0s\n",
      "[CV] END .....................C=100, gamma=0.001, kernel=rbf; total time=   0.0s\n",
      "[CV] END .....................C=100, gamma=0.001, kernel=rbf; total time=   0.0s\n",
      "[CV] END .....................C=100, gamma=0.001, kernel=rbf; total time=   0.0s\n",
      "[CV] END ..................C=100, gamma=0.001, kernel=linear; total time=   0.1s\n",
      "[CV] END ..................C=100, gamma=0.001, kernel=linear; total time=   0.1s\n",
      "[CV] END ..................C=100, gamma=0.001, kernel=linear; total time=   0.1s\n",
      "[CV] END ..................C=100, gamma=0.001, kernel=linear; total time=   0.1s\n",
      "[CV] END ..................C=100, gamma=0.001, kernel=linear; total time=   0.1s\n",
      "[CV] END ....................C=100, gamma=0.0001, kernel=rbf; total time=   0.0s\n",
      "[CV] END ....................C=100, gamma=0.0001, kernel=rbf; total time=   0.0s\n",
      "[CV] END ....................C=100, gamma=0.0001, kernel=rbf; total time=   0.0s\n",
      "[CV] END ....................C=100, gamma=0.0001, kernel=rbf; total time=   0.0s\n",
      "[CV] END ....................C=100, gamma=0.0001, kernel=rbf; total time=   0.0s\n",
      "[CV] END .................C=100, gamma=0.0001, kernel=linear; total time=   0.1s\n",
      "[CV] END .................C=100, gamma=0.0001, kernel=linear; total time=   0.2s\n",
      "[CV] END .................C=100, gamma=0.0001, kernel=linear; total time=   0.2s\n",
      "[CV] END .................C=100, gamma=0.0001, kernel=linear; total time=   0.2s\n",
      "[CV] END .................C=100, gamma=0.0001, kernel=linear; total time=   0.2s\n",
      "[CV] END ........................C=1000, gamma=1, kernel=rbf; total time=   0.1s\n",
      "[CV] END ........................C=1000, gamma=1, kernel=rbf; total time=   0.1s\n",
      "[CV] END ........................C=1000, gamma=1, kernel=rbf; total time=   0.1s\n",
      "[CV] END ........................C=1000, gamma=1, kernel=rbf; total time=   0.1s\n",
      "[CV] END ........................C=1000, gamma=1, kernel=rbf; total time=   0.1s\n",
      "[CV] END .....................C=1000, gamma=1, kernel=linear; total time=   1.0s\n",
      "[CV] END .....................C=1000, gamma=1, kernel=linear; total time=   1.0s\n",
      "[CV] END .....................C=1000, gamma=1, kernel=linear; total time=   1.0s\n",
      "[CV] END .....................C=1000, gamma=1, kernel=linear; total time=   1.1s\n",
      "[CV] END .....................C=1000, gamma=1, kernel=linear; total time=   1.1s\n",
      "[CV] END ......................C=1000, gamma=0.1, kernel=rbf; total time=   0.0s\n",
      "[CV] END ......................C=1000, gamma=0.1, kernel=rbf; total time=   0.0s\n",
      "[CV] END ......................C=1000, gamma=0.1, kernel=rbf; total time=   0.0s\n",
      "[CV] END ......................C=1000, gamma=0.1, kernel=rbf; total time=   0.0s\n",
      "[CV] END ......................C=1000, gamma=0.1, kernel=rbf; total time=   0.0s\n",
      "[CV] END ...................C=1000, gamma=0.1, kernel=linear; total time=   1.0s\n",
      "[CV] END ...................C=1000, gamma=0.1, kernel=linear; total time=   1.0s\n",
      "[CV] END ...................C=1000, gamma=0.1, kernel=linear; total time=   1.0s\n",
      "[CV] END ...................C=1000, gamma=0.1, kernel=linear; total time=   1.0s\n",
      "[CV] END ...................C=1000, gamma=0.1, kernel=linear; total time=   1.1s\n",
      "[CV] END .....................C=1000, gamma=0.01, kernel=rbf; total time=   0.0s\n",
      "[CV] END .....................C=1000, gamma=0.01, kernel=rbf; total time=   0.0s\n",
      "[CV] END .....................C=1000, gamma=0.01, kernel=rbf; total time=   0.0s\n",
      "[CV] END .....................C=1000, gamma=0.01, kernel=rbf; total time=   0.0s\n",
      "[CV] END .....................C=1000, gamma=0.01, kernel=rbf; total time=   0.0s\n",
      "[CV] END ..................C=1000, gamma=0.01, kernel=linear; total time=   1.0s\n",
      "[CV] END ..................C=1000, gamma=0.01, kernel=linear; total time=   1.0s\n",
      "[CV] END ..................C=1000, gamma=0.01, kernel=linear; total time=   1.0s\n",
      "[CV] END ..................C=1000, gamma=0.01, kernel=linear; total time=   1.1s\n",
      "[CV] END ..................C=1000, gamma=0.01, kernel=linear; total time=   1.1s\n",
      "[CV] END ....................C=1000, gamma=0.001, kernel=rbf; total time=   0.0s\n",
      "[CV] END ....................C=1000, gamma=0.001, kernel=rbf; total time=   0.0s\n",
      "[CV] END ....................C=1000, gamma=0.001, kernel=rbf; total time=   0.0s\n",
      "[CV] END ....................C=1000, gamma=0.001, kernel=rbf; total time=   0.0s\n",
      "[CV] END ....................C=1000, gamma=0.001, kernel=rbf; total time=   0.0s\n",
      "[CV] END .................C=1000, gamma=0.001, kernel=linear; total time=   1.0s\n",
      "[CV] END .................C=1000, gamma=0.001, kernel=linear; total time=   1.0s\n",
      "[CV] END .................C=1000, gamma=0.001, kernel=linear; total time=   1.0s\n",
      "[CV] END .................C=1000, gamma=0.001, kernel=linear; total time=   1.0s\n",
      "[CV] END .................C=1000, gamma=0.001, kernel=linear; total time=   1.1s\n",
      "[CV] END ...................C=1000, gamma=0.0001, kernel=rbf; total time=   0.0s\n",
      "[CV] END ...................C=1000, gamma=0.0001, kernel=rbf; total time=   0.0s\n",
      "[CV] END ...................C=1000, gamma=0.0001, kernel=rbf; total time=   0.0s\n",
      "[CV] END ...................C=1000, gamma=0.0001, kernel=rbf; total time=   0.0s\n",
      "[CV] END ...................C=1000, gamma=0.0001, kernel=rbf; total time=   0.0s\n",
      "[CV] END ................C=1000, gamma=0.0001, kernel=linear; total time=   0.9s\n",
      "[CV] END ................C=1000, gamma=0.0001, kernel=linear; total time=   1.0s\n",
      "[CV] END ................C=1000, gamma=0.0001, kernel=linear; total time=   1.0s\n",
      "[CV] END ................C=1000, gamma=0.0001, kernel=linear; total time=   1.1s\n",
      "[CV] END ................C=1000, gamma=0.0001, kernel=linear; total time=   1.1s\n",
      "[CV] END .......................C=10000, gamma=1, kernel=rbf; total time=   0.1s\n",
      "[CV] END .......................C=10000, gamma=1, kernel=rbf; total time=   0.1s\n",
      "[CV] END .......................C=10000, gamma=1, kernel=rbf; total time=   0.1s\n",
      "[CV] END .......................C=10000, gamma=1, kernel=rbf; total time=   0.1s\n",
      "[CV] END .......................C=10000, gamma=1, kernel=rbf; total time=   0.1s\n",
      "[CV] END ....................C=10000, gamma=1, kernel=linear; total time=   7.8s\n",
      "[CV] END ....................C=10000, gamma=1, kernel=linear; total time=   8.6s\n",
      "[CV] END ....................C=10000, gamma=1, kernel=linear; total time=   8.7s\n",
      "[CV] END ....................C=10000, gamma=1, kernel=linear; total time=   9.5s\n",
      "[CV] END ....................C=10000, gamma=1, kernel=linear; total time=   9.3s\n",
      "[CV] END .....................C=10000, gamma=0.1, kernel=rbf; total time=   0.0s\n",
      "[CV] END .....................C=10000, gamma=0.1, kernel=rbf; total time=   0.0s\n",
      "[CV] END .....................C=10000, gamma=0.1, kernel=rbf; total time=   0.0s\n",
      "[CV] END .....................C=10000, gamma=0.1, kernel=rbf; total time=   0.0s\n",
      "[CV] END .....................C=10000, gamma=0.1, kernel=rbf; total time=   0.0s\n",
      "[CV] END ..................C=10000, gamma=0.1, kernel=linear; total time=   7.8s\n",
      "[CV] END ..................C=10000, gamma=0.1, kernel=linear; total time=   8.5s\n",
      "[CV] END ..................C=10000, gamma=0.1, kernel=linear; total time=   8.8s\n",
      "[CV] END ..................C=10000, gamma=0.1, kernel=linear; total time=   9.7s\n",
      "[CV] END ..................C=10000, gamma=0.1, kernel=linear; total time=   9.4s\n",
      "[CV] END ....................C=10000, gamma=0.01, kernel=rbf; total time=   0.1s\n",
      "[CV] END ....................C=10000, gamma=0.01, kernel=rbf; total time=   0.1s\n",
      "[CV] END ....................C=10000, gamma=0.01, kernel=rbf; total time=   0.1s\n",
      "[CV] END ....................C=10000, gamma=0.01, kernel=rbf; total time=   0.1s\n",
      "[CV] END ....................C=10000, gamma=0.01, kernel=rbf; total time=   0.1s\n",
      "[CV] END .................C=10000, gamma=0.01, kernel=linear; total time=   7.9s\n",
      "[CV] END .................C=10000, gamma=0.01, kernel=linear; total time=   8.6s\n",
      "[CV] END .................C=10000, gamma=0.01, kernel=linear; total time=   8.8s\n",
      "[CV] END .................C=10000, gamma=0.01, kernel=linear; total time=   9.6s\n",
      "[CV] END .................C=10000, gamma=0.01, kernel=linear; total time=   9.2s\n",
      "[CV] END ...................C=10000, gamma=0.001, kernel=rbf; total time=   0.1s\n",
      "[CV] END ...................C=10000, gamma=0.001, kernel=rbf; total time=   0.1s\n",
      "[CV] END ...................C=10000, gamma=0.001, kernel=rbf; total time=   0.1s\n",
      "[CV] END ...................C=10000, gamma=0.001, kernel=rbf; total time=   0.1s\n",
      "[CV] END ...................C=10000, gamma=0.001, kernel=rbf; total time=   0.1s\n",
      "[CV] END ................C=10000, gamma=0.001, kernel=linear; total time=   7.7s\n",
      "[CV] END ................C=10000, gamma=0.001, kernel=linear; total time=   8.6s\n",
      "[CV] END ................C=10000, gamma=0.001, kernel=linear; total time=   9.1s\n",
      "[CV] END ................C=10000, gamma=0.001, kernel=linear; total time=   9.8s\n",
      "[CV] END ................C=10000, gamma=0.001, kernel=linear; total time=   9.2s\n",
      "[CV] END ..................C=10000, gamma=0.0001, kernel=rbf; total time=   0.0s\n",
      "[CV] END ..................C=10000, gamma=0.0001, kernel=rbf; total time=   0.0s\n",
      "[CV] END ..................C=10000, gamma=0.0001, kernel=rbf; total time=   0.0s\n",
      "[CV] END ..................C=10000, gamma=0.0001, kernel=rbf; total time=   0.0s\n",
      "[CV] END ..................C=10000, gamma=0.0001, kernel=rbf; total time=   0.0s\n",
      "[CV] END ...............C=10000, gamma=0.0001, kernel=linear; total time=   7.7s\n",
      "[CV] END ...............C=10000, gamma=0.0001, kernel=linear; total time=   8.4s\n",
      "[CV] END ...............C=10000, gamma=0.0001, kernel=linear; total time=   8.7s\n",
      "[CV] END ...............C=10000, gamma=0.0001, kernel=linear; total time=   9.5s\n",
      "[CV] END ...............C=10000, gamma=0.0001, kernel=linear; total time=   9.6s\n"
     ]
    }
   ],
   "source": [
    "# import GridSearch Class\n",
    "from sklearn.model_selection import GridSearchCV, KFold\n",
    "\n",
    "# define the parameters to iterate through\n",
    "param_grid = {'C': [0.1, 1, 10, 100, 1000, 10000],\n",
    "              'gamma': [1, 0.1, 0.01, 0.001, 0.0001],\n",
    "              'kernel': ['rbf','linear']}\n",
    "\n",
    "# define a SVM classifier instance\n",
    "svm_clf = SVC(random_state=100)\n",
    "\n",
    "# peform Grid Search with 5-fold cross validation\n",
    "cv = KFold(n_splits=5, shuffle=True, random_state=41)                         \n",
    "grid = GridSearchCV(svm_clf, param_grid, cv=cv, verbose=2,scoring='f1_weighted')\n",
    "grid_result=grid.fit(xs_train, np.ravel(ys_train))"
   ]
  },
  {
   "cell_type": "markdown",
   "metadata": {},
   "source": [
    "Once the grid search has finished, we print the best possible set of parameters for the model."
   ]
  },
  {
   "cell_type": "code",
   "execution_count": 5,
   "metadata": {},
   "outputs": [
    {
     "name": "stdout",
     "output_type": "stream",
     "text": [
      "The best parameters are {'C': 10, 'gamma': 1, 'kernel': 'rbf'} with a weighted F1 score of 0.9768\n"
     ]
    }
   ],
   "source": [
    "print(\n",
    "    \"The best parameters are %s with a weighted F1 score of %0.4f\"\n",
    "    % (grid.best_params_, grid.best_score_)\n",
    ")"
   ]
  },
  {
   "cell_type": "markdown",
   "metadata": {},
   "source": [
    "### 3. Model Training and Evaluation\n",
    "\n",
    "Then, using the best combination of hyperparameters output by the grid search, we construct and train a SVM classifier on the training set."
   ]
  },
  {
   "cell_type": "code",
   "execution_count": 6,
   "metadata": {},
   "outputs": [
    {
     "data": {
      "text/plain": [
       "SVC(C=10, gamma=1, probability=True, random_state=888)"
      ]
     },
     "execution_count": 6,
     "metadata": {},
     "output_type": "execute_result"
    }
   ],
   "source": [
    "# Define a new SVM using the given parameters\n",
    "svm_clf_tuning = SVC(C=10, gamma=1, kernel='rbf',\n",
    "                     random_state=888, probability=True)\n",
    "\n",
    "# Train the model\n",
    "svm_clf_tuning.fit(xs_train, np.ravel(ys_train))\n"
   ]
  },
  {
   "cell_type": "markdown",
   "metadata": {},
   "source": [
    "In order to use the trained model again in the Model Ensemble Part, we save the model with joblib() method in sklearn."
   ]
  },
  {
   "cell_type": "code",
   "execution_count": 7,
   "metadata": {},
   "outputs": [
    {
     "data": {
      "text/plain": [
       "['models/Instance_Based_SVM.model']"
      ]
     },
     "execution_count": 7,
     "metadata": {},
     "output_type": "execute_result"
    }
   ],
   "source": [
    "import joblib\n",
    "\n",
    "# save the trained SVM model\n",
    "joblib.dump(svm_clf_tuning, 'models/Instance_Based_SVM.model')"
   ]
  },
  {
   "cell_type": "markdown",
   "metadata": {},
   "source": [
    "Finally, we evaluate the SVM models both before and after parameter tuning by making classification reports on the test set. \n",
    "\n",
    "According to the results, the parameter tuning has obviously increased the performance of the model for each metric of the tuned model is lager than that of the untuned model."
   ]
  },
  {
   "cell_type": "code",
   "execution_count": 8,
   "metadata": {},
   "outputs": [
    {
     "name": "stdout",
     "output_type": "stream",
     "text": [
      "Classification Report of SVM (before Parameter Tuning) on the Test set: \n",
      "\n",
      "               precision    recall  f1-score   support\n",
      "\n",
      "           0     0.9793    0.9752    0.9772       242\n",
      "           1     0.8889    0.9351    0.9114        77\n",
      "           2     1.0000    0.7692    0.8696        13\n",
      "           3     0.8571    0.8571    0.8571        14\n",
      "\n",
      "    accuracy                         0.9538       346\n",
      "   macro avg     0.9313    0.8842    0.9038       346\n",
      "weighted avg     0.9550    0.9538    0.9537       346\n",
      "\n",
      "Classification Report of SVM (after Parameter Tuning) on the Test set: \n",
      "\n",
      "               precision    recall  f1-score   support\n",
      "\n",
      "           0     0.9959    1.0000    0.9979       242\n",
      "           1     0.9870    0.9870    0.9870        77\n",
      "           2     1.0000    0.8462    0.9167        13\n",
      "           3     0.9333    1.0000    0.9655        14\n",
      "\n",
      "    accuracy                         0.9913       346\n",
      "   macro avg     0.9791    0.9583    0.9668       346\n",
      "weighted avg     0.9915    0.9913    0.9911       346\n",
      "\n"
     ]
    }
   ],
   "source": [
    "from sklearn.metrics import classification_report\n",
    "\n",
    "# predict the ys with xs of training set and test set\n",
    "ys_test_pred_no_tuning = svm_clf_no_tuning.predict(xs_test)\n",
    "ys_test_pred_tuning = svm_clf_tuning.predict(xs_test)\n",
    "\n",
    "# print the classfication report\n",
    "print('Classification Report of SVM (before Parameter Tuning) on the Test set: \\n\\n',\n",
    "      classification_report(ys_test, ys_test_pred_no_tuning, digits=4))\n",
    "      \n",
    "print('Classification Report of SVM (after Parameter Tuning) on the Test set: \\n\\n',\n",
    "      classification_report(ys_test, ys_test_pred_tuning, digits=4))"
   ]
  },
  {
   "cell_type": "markdown",
   "metadata": {},
   "source": [
    "We also plot a Confusion Matrix Heatmap by using the seaborn package in order to better present the classification results of the tuned SVM model."
   ]
  },
  {
   "cell_type": "code",
   "execution_count": 9,
   "metadata": {},
   "outputs": [
    {
     "data": {
      "image/png": "[encoded data removed]",
      "text/plain": [
       "<Figure size 720x720 with 1 Axes>"
      ]
     },
     "metadata": {
      "needs_background": "light"
     },
     "output_type": "display_data"
    }
   ],
   "source": [
    "import seaborn as sns\n",
    "from matplotlib import pyplot as plt\n",
    "from sklearn.metrics import confusion_matrix\n",
    "\n",
    "# construct a confusion matrix which shows the accuracy on each class\n",
    "mat = confusion_matrix(ys_test, ys_test_pred_tuning)\n",
    "\n",
    "# plot the confusion matrix into a heatmap\n",
    "plt.subplots(figsize=(10, 10))\n",
    "sns.heatmap(mat.T, square=True, annot=True, fmt='d', cbar=False,\n",
    "            xticklabels=class_dic.values(), yticklabels=class_dic.values())\n",
    "# set the x and y label of the figure\n",
    "plt.xlabel('True Label')\n",
    "plt.ylabel('Predicted Label')\n",
    "plt.show()"
   ]
  }
 ],
 "metadata": {
  "interpreter": {
   "hash": "d1fde5b44921074e948dd7bb7c107ad362d6c923d0d607888948f22a1b6b34e0"
  },
  "kernelspec": {
   "display_name": "Python 3.8.12 ('Machine_learning')",
   "language": "python",
   "name": "python3"
  },
  "language_info": {
   "codemirror_mode": {
    "name": "ipython",
    "version": 3
   },
   "file_extension": ".py",
   "mimetype": "text/x-python",
   "name": "python",
   "nbconvert_exporter": "python",
   "pygments_lexer": "ipython3",
   "version": "3.8.12"
  },
  "orig_nbformat": 4
 },
 "nbformat": 4,
 "nbformat_minor": 2
}
